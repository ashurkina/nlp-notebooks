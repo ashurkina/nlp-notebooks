{
 "cells": [
  {
   "cell_type": "markdown",
   "id": "2be3c03b-f3fb-4757-b105-86a21ee3823f",
   "metadata": {},
   "source": [
    "# Loading text from the internet"
   ]
  },
  {
   "cell_type": "code",
   "execution_count": 4,
   "id": "cdd3fb7a-bfe3-4075-a838-3a952b3914b2",
   "metadata": {},
   "outputs": [
    {
     "data": {
      "text/plain": [
       "'3.8.4'"
      ]
     },
     "execution_count": 4,
     "metadata": {},
     "output_type": "execute_result"
    }
   ],
   "source": [
    "import spacy\n",
    "spacy.__version__"
   ]
  },
  {
   "cell_type": "code",
   "execution_count": 5,
   "id": "6086c4f5-c5f0-483a-855c-872f67f08109",
   "metadata": {},
   "outputs": [
    {
     "name": "stdout",
     "output_type": "stream",
     "text": [
      "Requirement already satisfied: goose3 in /Users/marinaashurkina/code/nlp-notebooks/env/lib/python3.11/site-packages (3.1.19)\n",
      "Requirement already satisfied: requests in /Users/marinaashurkina/code/nlp-notebooks/env/lib/python3.11/site-packages (from goose3) (2.32.3)\n",
      "Requirement already satisfied: Pillow in /Users/marinaashurkina/code/nlp-notebooks/env/lib/python3.11/site-packages (from goose3) (11.1.0)\n",
      "Requirement already satisfied: lxml in /Users/marinaashurkina/code/nlp-notebooks/env/lib/python3.11/site-packages (from goose3) (5.3.0)\n",
      "Requirement already satisfied: cssselect in /Users/marinaashurkina/code/nlp-notebooks/env/lib/python3.11/site-packages (from goose3) (1.2.0)\n",
      "Requirement already satisfied: beautifulsoup4 in /Users/marinaashurkina/code/nlp-notebooks/env/lib/python3.11/site-packages (from goose3) (4.12.3)\n",
      "Requirement already satisfied: python-dateutil in /Users/marinaashurkina/code/nlp-notebooks/env/lib/python3.11/site-packages (from goose3) (2.9.0.post0)\n",
      "Requirement already satisfied: langdetect in /Users/marinaashurkina/code/nlp-notebooks/env/lib/python3.11/site-packages (from goose3) (1.0.9)\n",
      "Requirement already satisfied: pyahocorasick in /Users/marinaashurkina/code/nlp-notebooks/env/lib/python3.11/site-packages (from goose3) (2.1.0)\n",
      "Requirement already satisfied: soupsieve>1.2 in /Users/marinaashurkina/code/nlp-notebooks/env/lib/python3.11/site-packages (from beautifulsoup4->goose3) (2.6)\n",
      "Requirement already satisfied: six in /Users/marinaashurkina/code/nlp-notebooks/env/lib/python3.11/site-packages (from langdetect->goose3) (1.17.0)\n",
      "Requirement already satisfied: charset-normalizer<4,>=2 in /Users/marinaashurkina/code/nlp-notebooks/env/lib/python3.11/site-packages (from requests->goose3) (3.4.1)\n",
      "Requirement already satisfied: idna<4,>=2.5 in /Users/marinaashurkina/code/nlp-notebooks/env/lib/python3.11/site-packages (from requests->goose3) (3.10)\n",
      "Requirement already satisfied: urllib3<3,>=1.21.1 in /Users/marinaashurkina/code/nlp-notebooks/env/lib/python3.11/site-packages (from requests->goose3) (2.3.0)\n",
      "Requirement already satisfied: certifi>=2017.4.17 in /Users/marinaashurkina/code/nlp-notebooks/env/lib/python3.11/site-packages (from requests->goose3) (2025.1.31)\n",
      "\n",
      "\u001b[1m[\u001b[0m\u001b[34;49mnotice\u001b[0m\u001b[1;39;49m]\u001b[0m\u001b[39;49m A new release of pip is available: \u001b[0m\u001b[31;49m23.2.1\u001b[0m\u001b[39;49m -> \u001b[0m\u001b[32;49m25.0\u001b[0m\n",
      "\u001b[1m[\u001b[0m\u001b[34;49mnotice\u001b[0m\u001b[1;39;49m]\u001b[0m\u001b[39;49m To update, run: \u001b[0m\u001b[32;49mpip install --upgrade pip\u001b[0m\n"
     ]
    }
   ],
   "source": [
    "!pip install --upgrade goose3\n",
    "import goose3"
   ]
  },
  {
   "cell_type": "code",
   "execution_count": 6,
   "id": "bb737112-8e38-423d-ac56-951e48a61cba",
   "metadata": {},
   "outputs": [
    {
     "name": "stdout",
     "output_type": "stream",
     "text": [
      "Requirement already satisfied: pip in /Users/marinaashurkina/code/nlp-notebooks/env/lib/python3.11/site-packages (23.2.1)\n",
      "Collecting pip\n",
      "  Obtaining dependency information for pip from https://files.pythonhosted.org/packages/85/8a/1ddf40be20103bcc605db840e9ade09c8e8c9f920a03e9cfe88eae97a058/pip-25.0-py3-none-any.whl.metadata\n",
      "  Downloading pip-25.0-py3-none-any.whl.metadata (3.7 kB)\n",
      "Downloading pip-25.0-py3-none-any.whl (1.8 MB)\n",
      "\u001b[2K   \u001b[90m━━━━━━━━━━━━━━━━━━━━━━━━━━━━━━━━━━━━━━━━\u001b[0m \u001b[32m1.8/1.8 MB\u001b[0m \u001b[31m8.0 MB/s\u001b[0m eta \u001b[36m0:00:00\u001b[0m00:01\u001b[0m00:01\u001b[0m\n",
      "Installing collected packages: pip\n",
      "  Attempting uninstall: pip\n",
      "    Found existing installation: pip 23.2.1\n",
      "    Uninstalling pip-23.2.1:\n",
      "      Successfully uninstalled pip-23.2.1\n",
      "Successfully installed pip-25.0\n",
      "Note: you may need to restart the kernel to use updated packages.\n"
     ]
    }
   ],
   "source": [
    "pip install --upgrade pip"
   ]
  },
  {
   "cell_type": "code",
   "execution_count": 7,
   "id": "bd1daa87-3811-43c3-9f85-1a574aaf1cd7",
   "metadata": {},
   "outputs": [
    {
     "name": "stdout",
     "output_type": "stream",
     "text": [
      "Collecting en-core-web-sm==3.8.0\n",
      "  Downloading https://github.com/explosion/spacy-models/releases/download/en_core_web_sm-3.8.0/en_core_web_sm-3.8.0-py3-none-any.whl (12.8 MB)\n",
      "\u001b[2K     \u001b[90m━━━━━━━━━━━━━━━━━━━━━━━━━━━━━━━━━━━━━━━━\u001b[0m \u001b[32m12.8/12.8 MB\u001b[0m \u001b[31m12.1 MB/s\u001b[0m eta \u001b[36m0:00:00\u001b[0m00:01\u001b[0m00:01\u001b[0m\n",
      "\u001b[38;5;2m✔ Download and installation successful\u001b[0m\n",
      "You can now load the package via spacy.load('en_core_web_sm')\n"
     ]
    }
   ],
   "source": [
    "!python -m spacy download en_core_web_sm"
   ]
  },
  {
   "cell_type": "code",
   "execution_count": 8,
   "id": "c872a292-b99f-4096-8f61-c765a28caa4d",
   "metadata": {},
   "outputs": [],
   "source": [
    "import en_core_web_sm"
   ]
  },
  {
   "cell_type": "code",
   "execution_count": 9,
   "id": "e0973614-916f-4aaf-8014-935053da61ce",
   "metadata": {},
   "outputs": [
    {
     "name": "stdout",
     "output_type": "stream",
     "text": [
      "Requirement already satisfied: goose3 in /Users/marinaashurkina/code/nlp-notebooks/env/lib/python3.11/site-packages (3.1.19)\n",
      "Requirement already satisfied: requests in /Users/marinaashurkina/code/nlp-notebooks/env/lib/python3.11/site-packages (from goose3) (2.32.3)\n",
      "Requirement already satisfied: Pillow in /Users/marinaashurkina/code/nlp-notebooks/env/lib/python3.11/site-packages (from goose3) (11.1.0)\n",
      "Requirement already satisfied: lxml in /Users/marinaashurkina/code/nlp-notebooks/env/lib/python3.11/site-packages (from goose3) (5.3.0)\n",
      "Requirement already satisfied: cssselect in /Users/marinaashurkina/code/nlp-notebooks/env/lib/python3.11/site-packages (from goose3) (1.2.0)\n",
      "Requirement already satisfied: beautifulsoup4 in /Users/marinaashurkina/code/nlp-notebooks/env/lib/python3.11/site-packages (from goose3) (4.12.3)\n",
      "Requirement already satisfied: python-dateutil in /Users/marinaashurkina/code/nlp-notebooks/env/lib/python3.11/site-packages (from goose3) (2.9.0.post0)\n",
      "Requirement already satisfied: langdetect in /Users/marinaashurkina/code/nlp-notebooks/env/lib/python3.11/site-packages (from goose3) (1.0.9)\n",
      "Requirement already satisfied: pyahocorasick in /Users/marinaashurkina/code/nlp-notebooks/env/lib/python3.11/site-packages (from goose3) (2.1.0)\n",
      "Requirement already satisfied: soupsieve>1.2 in /Users/marinaashurkina/code/nlp-notebooks/env/lib/python3.11/site-packages (from beautifulsoup4->goose3) (2.6)\n",
      "Requirement already satisfied: six in /Users/marinaashurkina/code/nlp-notebooks/env/lib/python3.11/site-packages (from langdetect->goose3) (1.17.0)\n",
      "Requirement already satisfied: charset-normalizer<4,>=2 in /Users/marinaashurkina/code/nlp-notebooks/env/lib/python3.11/site-packages (from requests->goose3) (3.4.1)\n",
      "Requirement already satisfied: idna<4,>=2.5 in /Users/marinaashurkina/code/nlp-notebooks/env/lib/python3.11/site-packages (from requests->goose3) (3.10)\n",
      "Requirement already satisfied: urllib3<3,>=1.21.1 in /Users/marinaashurkina/code/nlp-notebooks/env/lib/python3.11/site-packages (from requests->goose3) (2.3.0)\n",
      "Requirement already satisfied: certifi>=2017.4.17 in /Users/marinaashurkina/code/nlp-notebooks/env/lib/python3.11/site-packages (from requests->goose3) (2025.1.31)\n"
     ]
    }
   ],
   "source": [
    "!pip install goose3"
   ]
  },
  {
   "cell_type": "code",
   "execution_count": 10,
   "id": "76ab5181-2181-4976-844c-b1a3984d462a",
   "metadata": {},
   "outputs": [],
   "source": [
    "from goose3 import Goose\n",
    "g = Goose()\n",
    "url = 'https://www.newscientist.com/nsj/job/1402090476/senior-ai-engineer-f-m-d-/'\n",
    "article = g.extract(url)"
   ]
  },
  {
   "cell_type": "code",
   "execution_count": 11,
   "id": "08fc83c1-8073-49a9-8a49-a365eb8af5ae",
   "metadata": {},
   "outputs": [
    {
     "data": {
      "text/plain": [
       "\"\\n• Design, Develop, and Deploy AI Models: Focus on creating and deploying AI models for conversational applications, leveraging advanced LLM (Large Language Model) techniques.\\n• Collaborate with Product and Design Teams: Work closely with cross-functional teams to understand requirements and translate them into AI-driven solutions.\\n• API Development and Integration: Develop and integrate APIs using frameworks like FastAPI, Django, or Flask to facilitate AI functionalities within larger systems.\\n• Utilize Advanced AI Tools: Work with embedding models, vector databases, and prompt engineering to enhance the performance and capabilities of conversational AI.\\n• Continuous Evaluation and Improvement: Evaluate LLM and RAG (Retrieval-Augmented Generation) implementations and iterate on these to boost system performance, accuracy, and efficiency.\\n• Problem-Solving and Collaboration: Engage with other engineers and stakeholders to solve complex challenges and bring high-quality AI-driven features to users.\\n• Stay Current with AI Trends: Keep abreast of the latest AI and ML trends, and proactively suggest improvements or innovative solutions that can be applied.\\n• Mentor Junior Team Members: Help guide junior engineers by sharing knowledge, providing constructive feedback, and fostering a supportive team environment.\\n• At least 7 years experience as a Software Engineer, 5 of them working with Python.\\n• Proficiency in Python and experience building large and scalable Python applications.\\n• Excellent verbal and written communication skills-able to explain complex technical concepts in a clear and approachable manner.\\n• Strong sense of ownership and accountability for the work produced.\\n• Team player-eager to collaborate, listen, and contribute actively to team success.\\n• Problem-solving mindset-willing to tackle complex challenges with creativity and perseverance.\\n• Fluent in both written and spoken English.\\n• Experience with LLM and RAG evaluation using Langsmith.\\n• Experience with LangGraph framework and agents in general.\\n• Experience with other programming languages and containerization tools.\\n• Enthusiasm for staying up-to-date with the latest developments in AI and tech.\\n• Flexi-Week and Work-Life Balance: We prioritise your mental health and wellbeing, offering you a flexible four-day Flexi-Week at full pay and with no reduction to your annual holiday allowance. We also offer a variety of different paid special leaves.\\n• Remote Working Allowance: You will receive a monthly allowance to cover part of your running costs. In addition, we will support you in setting up your remote workspace appropriately.\\n• Flexi-Office: We offer an international culture and flexibility through our Flexi-Office and hybrid/remote work possibilities to work across Awin regions\\n• Meal Vouchers: You will be supported with a certain net sum to spend it on a variety of lunches.\\n• Health & Wellbeing: The insurance covers several types of health, vision and / or dental treatments for you and for up to one additional family member.\\n• Remote Working Furniture Package: After 3 months of employment, you will be eligible for a furniture package, which should enable you to set up a proper workplace at your remote working location\\n• Appreciation: Thank and reward colleagues by sending them a voucher through our peer-to-peer program.\\n\\nWe are seeking a Senior AI Engineer to join our growing AI team with a mission to design, develop, and deploy AI models that drive our conversational applications. The role will focus on leveraging advanced AI technologies, specifically in Large Language Models (LLMs), to create scalable and impactful solutions that enhance our products.Established in 2000, Awin is proud of our dynamic, social and inclusive culture.Like all businesses, we've had to adapt and nurture our culture in a virtual environment. Our virtual 'Life @ Awin' hub brings our colleagues from across the globe together for various social activities.Diversity & Inclusion are paramount to us, and we proudly pursue and hire diverse team members. We champion uniqueness and authenticity; this is who we are at our core. Our network of affiliate partnerships are diverse and transparent, as are the employees powering our vision to build the world's leading open partner ecosystem. We welcome all backgrounds, identities, and experiences. If you need support at any point in the application or interview process, please let us know.Apply now to begin the next stage of your career at a progressive company that supports both your professional and personal development.#LI-RS\""
      ]
     },
     "execution_count": 11,
     "metadata": {},
     "output_type": "execute_result"
    }
   ],
   "source": [
    "article.cleaned_text"
   ]
  },
  {
   "cell_type": "code",
   "execution_count": 12,
   "id": "b6b3685c-b36e-4ae8-bcf8-8833ced92d11",
   "metadata": {},
   "outputs": [
    {
     "data": {
      "text/plain": [
       "[]"
      ]
     },
     "execution_count": 12,
     "metadata": {},
     "output_type": "execute_result"
    }
   ],
   "source": [
    "article.links"
   ]
  },
  {
   "cell_type": "markdown",
   "id": "fc0695d5-9d69-48a5-933c-b40812b1d9ee",
   "metadata": {},
   "source": [
    "# Extract Named Entities"
   ]
  },
  {
   "cell_type": "code",
   "execution_count": 13,
   "id": "746cc7b3-d7f8-495f-bb4f-7b7d749f3e30",
   "metadata": {},
   "outputs": [
    {
     "data": {
      "text/plain": [
       "<spacy.lang.en.English at 0x12051c950>"
      ]
     },
     "execution_count": 13,
     "metadata": {},
     "output_type": "execute_result"
    }
   ],
   "source": [
    "nlp = spacy.load('en_core_web_sm')\n",
    "nlp"
   ]
  },
  {
   "cell_type": "code",
   "execution_count": 14,
   "id": "e5a2dd66-565b-4256-8404-e289a337810d",
   "metadata": {},
   "outputs": [],
   "source": [
    "document = nlp(article.cleaned_text)"
   ]
  },
  {
   "cell_type": "code",
   "execution_count": 15,
   "id": "95b4ae51-571c-4946-ae54-a510ff52311d",
   "metadata": {},
   "outputs": [
    {
     "name": "stdout",
     "output_type": "stream",
     "text": [
      "conversational  --  ADJ\n",
      "advanced  --  ADJ\n",
      "cross  --  ADJ\n",
      "-  --  ADJ\n",
      "functional  --  ADJ\n",
      "larger  --  ADJ\n",
      "Advanced  --  ADJ\n",
      "prompt  --  ADJ\n",
      "conversational  --  ADJ\n",
      "other  --  ADJ\n",
      "complex  --  ADJ\n",
      "high  --  ADJ\n",
      "latest  --  ADJ\n",
      "innovative  --  ADJ\n",
      "junior  --  ADJ\n",
      "constructive  --  ADJ\n",
      "supportive  --  ADJ\n",
      "least  --  ADJ\n",
      "large  --  ADJ\n",
      "scalable  --  ADJ\n",
      "Excellent  --  ADJ\n",
      "verbal  --  ADJ\n",
      "able  --  ADJ\n",
      "complex  --  ADJ\n",
      "technical  --  ADJ\n",
      "clear  --  ADJ\n",
      "approachable  --  ADJ\n",
      "Strong  --  ADJ\n",
      "eager  --  ADJ\n",
      "willing  --  ADJ\n",
      "complex  --  ADJ\n",
      "general  --  ADJ\n",
      "other  --  ADJ\n",
      "latest  --  ADJ\n",
      "mental  --  ADJ\n",
      "flexible  --  ADJ\n",
      "full  --  ADJ\n",
      "annual  --  ADJ\n",
      "different  --  ADJ\n",
      "special  --  ADJ\n",
      "monthly  --  ADJ\n",
      "remote  --  ADJ\n",
      "international  --  ADJ\n",
      "remote  --  ADJ\n",
      "certain  --  ADJ\n",
      "net  --  ADJ\n",
      "several  --  ADJ\n",
      "dental  --  ADJ\n",
      "additional  --  ADJ\n",
      "eligible  --  ADJ\n",
      "proper  --  ADJ\n",
      "remote  --  ADJ\n",
      "conversational  --  ADJ\n",
      "advanced  --  ADJ\n",
      "scalable  --  ADJ\n",
      "impactful  --  ADJ\n",
      "proud  --  ADJ\n",
      "dynamic  --  ADJ\n",
      "social  --  ADJ\n",
      "inclusive  --  ADJ\n",
      "virtual  --  ADJ\n",
      "virtual  --  ADJ\n",
      "various  --  ADJ\n",
      "social  --  ADJ\n",
      "paramount  --  ADJ\n",
      "diverse  --  ADJ\n",
      "diverse  --  ADJ\n",
      "transparent  --  ADJ\n",
      "open  --  ADJ\n",
      "next  --  ADJ\n",
      "progressive  --  ADJ\n",
      "professional  --  ADJ\n",
      "personal  --  ADJ\n"
     ]
    }
   ],
   "source": [
    "for token in document:\n",
    "  if token.pos_ == 'ADJ':\n",
    "    print(token.text, ' -- ', token.pos_, )"
   ]
  },
  {
   "cell_type": "code",
   "execution_count": 16,
   "id": "6804c892-f19e-4caa-b23f-4139e4e12e66",
   "metadata": {},
   "outputs": [
    {
     "data": {
      "text/html": [
       "<span class=\"tex2jax_ignore\"><div class=\"entities\" style=\"line-height: 2.5; direction: ltr\"><br>\n",
       "<mark class=\"entity\" style=\"background: #7aecec; padding: 0.45em 0.6em; margin: 0 0.25em; line-height: 1; border-radius: 0.35em;\">\n",
       "    • Design\n",
       "    <span style=\"font-size: 0.8em; font-weight: bold; line-height: 1; border-radius: 0.35em; vertical-align: middle; margin-left: 0.5rem\">ORG</span>\n",
       "</mark>\n",
       ", \n",
       "<mark class=\"entity\" style=\"background: #7aecec; padding: 0.45em 0.6em; margin: 0 0.25em; line-height: 1; border-radius: 0.35em;\">\n",
       "    Develop\n",
       "    <span style=\"font-size: 0.8em; font-weight: bold; line-height: 1; border-radius: 0.35em; vertical-align: middle; margin-left: 0.5rem\">ORG</span>\n",
       "</mark>\n",
       ", and \n",
       "<mark class=\"entity\" style=\"background: #7aecec; padding: 0.45em 0.6em; margin: 0 0.25em; line-height: 1; border-radius: 0.35em;\">\n",
       "    Deploy AI Models: Focus\n",
       "    <span style=\"font-size: 0.8em; font-weight: bold; line-height: 1; border-radius: 0.35em; vertical-align: middle; margin-left: 0.5rem\">ORG</span>\n",
       "</mark>\n",
       " on creating and deploying \n",
       "<mark class=\"entity\" style=\"background: #7aecec; padding: 0.45em 0.6em; margin: 0 0.25em; line-height: 1; border-radius: 0.35em;\">\n",
       "    AI\n",
       "    <span style=\"font-size: 0.8em; font-weight: bold; line-height: 1; border-radius: 0.35em; vertical-align: middle; margin-left: 0.5rem\">ORG</span>\n",
       "</mark>\n",
       " models for conversational applications, leveraging advanced LLM (Large Language Model) techniques.<br>\n",
       "<mark class=\"entity\" style=\"background: #7aecec; padding: 0.45em 0.6em; margin: 0 0.25em; line-height: 1; border-radius: 0.35em;\">\n",
       "    • Collaborate with Product and Design Teams: Work\n",
       "    <span style=\"font-size: 0.8em; font-weight: bold; line-height: 1; border-radius: 0.35em; vertical-align: middle; margin-left: 0.5rem\">ORG</span>\n",
       "</mark>\n",
       " closely with cross-functional teams to understand requirements and translate them into \n",
       "<mark class=\"entity\" style=\"background: #feca74; padding: 0.45em 0.6em; margin: 0 0.25em; line-height: 1; border-radius: 0.35em;\">\n",
       "    AI\n",
       "    <span style=\"font-size: 0.8em; font-weight: bold; line-height: 1; border-radius: 0.35em; vertical-align: middle; margin-left: 0.5rem\">GPE</span>\n",
       "</mark>\n",
       "-driven solutions.<br>• API Development and Integration: Develop and integrate APIs using frameworks like FastAPI, \n",
       "<mark class=\"entity\" style=\"background: #aa9cfc; padding: 0.45em 0.6em; margin: 0 0.25em; line-height: 1; border-radius: 0.35em;\">\n",
       "    Django\n",
       "    <span style=\"font-size: 0.8em; font-weight: bold; line-height: 1; border-radius: 0.35em; vertical-align: middle; margin-left: 0.5rem\">PERSON</span>\n",
       "</mark>\n",
       ", or \n",
       "<mark class=\"entity\" style=\"background: #feca74; padding: 0.45em 0.6em; margin: 0 0.25em; line-height: 1; border-radius: 0.35em;\">\n",
       "    Flask\n",
       "    <span style=\"font-size: 0.8em; font-weight: bold; line-height: 1; border-radius: 0.35em; vertical-align: middle; margin-left: 0.5rem\">GPE</span>\n",
       "</mark>\n",
       " to facilitate AI functionalities within larger systems.<br>• Utilize Advanced AI Tools: Work with embedding models, vector databases, and prompt engineering to enhance the performance and capabilities of conversational \n",
       "<mark class=\"entity\" style=\"background: #feca74; padding: 0.45em 0.6em; margin: 0 0.25em; line-height: 1; border-radius: 0.35em;\">\n",
       "    AI\n",
       "    <span style=\"font-size: 0.8em; font-weight: bold; line-height: 1; border-radius: 0.35em; vertical-align: middle; margin-left: 0.5rem\">GPE</span>\n",
       "</mark>\n",
       ".<br>• Continuous Evaluation and Improvement: Evaluate LLM and \n",
       "<mark class=\"entity\" style=\"background: #aa9cfc; padding: 0.45em 0.6em; margin: 0 0.25em; line-height: 1; border-radius: 0.35em;\">\n",
       "    RAG\n",
       "    <span style=\"font-size: 0.8em; font-weight: bold; line-height: 1; border-radius: 0.35em; vertical-align: middle; margin-left: 0.5rem\">PERSON</span>\n",
       "</mark>\n",
       " (Retrieval-Augmented Generation) implementations and iterate on these to boost system performance, accuracy, and efficiency.<br>\n",
       "<mark class=\"entity\" style=\"background: #7aecec; padding: 0.45em 0.6em; margin: 0 0.25em; line-height: 1; border-radius: 0.35em;\">\n",
       "    • Problem-Solving\n",
       "    <span style=\"font-size: 0.8em; font-weight: bold; line-height: 1; border-radius: 0.35em; vertical-align: middle; margin-left: 0.5rem\">ORG</span>\n",
       "</mark>\n",
       " and Collaboration: Engage with other engineers and stakeholders to solve complex challenges and bring high-quality AI-driven features to users.<br>• Stay Current with AI Trends: Keep abreast of the latest \n",
       "<mark class=\"entity\" style=\"background: #feca74; padding: 0.45em 0.6em; margin: 0 0.25em; line-height: 1; border-radius: 0.35em;\">\n",
       "    AI\n",
       "    <span style=\"font-size: 0.8em; font-weight: bold; line-height: 1; border-radius: 0.35em; vertical-align: middle; margin-left: 0.5rem\">GPE</span>\n",
       "</mark>\n",
       " and \n",
       "<mark class=\"entity\" style=\"background: #7aecec; padding: 0.45em 0.6em; margin: 0 0.25em; line-height: 1; border-radius: 0.35em;\">\n",
       "    ML\n",
       "    <span style=\"font-size: 0.8em; font-weight: bold; line-height: 1; border-radius: 0.35em; vertical-align: middle; margin-left: 0.5rem\">ORG</span>\n",
       "</mark>\n",
       " trends, and proactively suggest improvements or innovative solutions that can be applied.<br>• Mentor Junior Team Members: Help guide junior engineers by sharing knowledge, providing constructive feedback, and fostering a supportive team environment.<br>• \n",
       "<mark class=\"entity\" style=\"background: #bfe1d9; padding: 0.45em 0.6em; margin: 0 0.25em; line-height: 1; border-radius: 0.35em;\">\n",
       "    At least 7 years\n",
       "    <span style=\"font-size: 0.8em; font-weight: bold; line-height: 1; border-radius: 0.35em; vertical-align: middle; margin-left: 0.5rem\">DATE</span>\n",
       "</mark>\n",
       " experience as a Software Engineer, \n",
       "<mark class=\"entity\" style=\"background: #e4e7d2; padding: 0.45em 0.6em; margin: 0 0.25em; line-height: 1; border-radius: 0.35em;\">\n",
       "    5\n",
       "    <span style=\"font-size: 0.8em; font-weight: bold; line-height: 1; border-radius: 0.35em; vertical-align: middle; margin-left: 0.5rem\">CARDINAL</span>\n",
       "</mark>\n",
       " of them working with Python.<br>• Proficiency in Python and experience building large and scalable Python applications.<br>\n",
       "<mark class=\"entity\" style=\"background: #7aecec; padding: 0.45em 0.6em; margin: 0 0.25em; line-height: 1; border-radius: 0.35em;\">\n",
       "    • Excellent\n",
       "    <span style=\"font-size: 0.8em; font-weight: bold; line-height: 1; border-radius: 0.35em; vertical-align: middle; margin-left: 0.5rem\">ORG</span>\n",
       "</mark>\n",
       " verbal and written communication skills-able to explain complex technical concepts in a clear and approachable manner.<br>\n",
       "<mark class=\"entity\" style=\"background: #aa9cfc; padding: 0.45em 0.6em; margin: 0 0.25em; line-height: 1; border-radius: 0.35em;\">\n",
       "    • Strong\n",
       "    <span style=\"font-size: 0.8em; font-weight: bold; line-height: 1; border-radius: 0.35em; vertical-align: middle; margin-left: 0.5rem\">PERSON</span>\n",
       "</mark>\n",
       " sense of ownership and accountability for the work produced.<br>\n",
       "<mark class=\"entity\" style=\"background: #7aecec; padding: 0.45em 0.6em; margin: 0 0.25em; line-height: 1; border-radius: 0.35em;\">\n",
       "    • Team\n",
       "    <span style=\"font-size: 0.8em; font-weight: bold; line-height: 1; border-radius: 0.35em; vertical-align: middle; margin-left: 0.5rem\">ORG</span>\n",
       "</mark>\n",
       " player-eager to collaborate, listen, and contribute actively to team success.<br>\n",
       "<mark class=\"entity\" style=\"background: #aa9cfc; padding: 0.45em 0.6em; margin: 0 0.25em; line-height: 1; border-radius: 0.35em;\">\n",
       "    • Problem\n",
       "    <span style=\"font-size: 0.8em; font-weight: bold; line-height: 1; border-radius: 0.35em; vertical-align: middle; margin-left: 0.5rem\">PERSON</span>\n",
       "</mark>\n",
       "-solving mindset-willing to tackle complex challenges with creativity and perseverance.<br>• Fluent in both written and spoken \n",
       "<mark class=\"entity\" style=\"background: #ff8197; padding: 0.45em 0.6em; margin: 0 0.25em; line-height: 1; border-radius: 0.35em;\">\n",
       "    English\n",
       "    <span style=\"font-size: 0.8em; font-weight: bold; line-height: 1; border-radius: 0.35em; vertical-align: middle; margin-left: 0.5rem\">LANGUAGE</span>\n",
       "</mark>\n",
       ".<br>• Experience with LLM and \n",
       "<mark class=\"entity\" style=\"background: #aa9cfc; padding: 0.45em 0.6em; margin: 0 0.25em; line-height: 1; border-radius: 0.35em;\">\n",
       "    RAG\n",
       "    <span style=\"font-size: 0.8em; font-weight: bold; line-height: 1; border-radius: 0.35em; vertical-align: middle; margin-left: 0.5rem\">PERSON</span>\n",
       "</mark>\n",
       " evaluation using \n",
       "<mark class=\"entity\" style=\"background: #aa9cfc; padding: 0.45em 0.6em; margin: 0 0.25em; line-height: 1; border-radius: 0.35em;\">\n",
       "    Langsmith\n",
       "    <span style=\"font-size: 0.8em; font-weight: bold; line-height: 1; border-radius: 0.35em; vertical-align: middle; margin-left: 0.5rem\">PERSON</span>\n",
       "</mark>\n",
       ".<br>• Experience with \n",
       "<mark class=\"entity\" style=\"background: #7aecec; padding: 0.45em 0.6em; margin: 0 0.25em; line-height: 1; border-radius: 0.35em;\">\n",
       "    LangGraph\n",
       "    <span style=\"font-size: 0.8em; font-weight: bold; line-height: 1; border-radius: 0.35em; vertical-align: middle; margin-left: 0.5rem\">ORG</span>\n",
       "</mark>\n",
       " framework and agents in general.<br>• Experience with other programming languages and containerization tools.<br>• Enthusiasm for staying up-to-date with the latest developments in \n",
       "<mark class=\"entity\" style=\"background: #feca74; padding: 0.45em 0.6em; margin: 0 0.25em; line-height: 1; border-radius: 0.35em;\">\n",
       "    AI\n",
       "    <span style=\"font-size: 0.8em; font-weight: bold; line-height: 1; border-radius: 0.35em; vertical-align: middle; margin-left: 0.5rem\">GPE</span>\n",
       "</mark>\n",
       " and tech.<br>• \n",
       "<mark class=\"entity\" style=\"background: #bfe1d9; padding: 0.45em 0.6em; margin: 0 0.25em; line-height: 1; border-radius: 0.35em;\">\n",
       "    Flexi-Week\n",
       "    <span style=\"font-size: 0.8em; font-weight: bold; line-height: 1; border-radius: 0.35em; vertical-align: middle; margin-left: 0.5rem\">DATE</span>\n",
       "</mark>\n",
       " and Work-Life Balance: We prioritise your mental health and wellbeing, offering you a flexible \n",
       "<mark class=\"entity\" style=\"background: #bfe1d9; padding: 0.45em 0.6em; margin: 0 0.25em; line-height: 1; border-radius: 0.35em;\">\n",
       "    four-day\n",
       "    <span style=\"font-size: 0.8em; font-weight: bold; line-height: 1; border-radius: 0.35em; vertical-align: middle; margin-left: 0.5rem\">DATE</span>\n",
       "</mark>\n",
       " \n",
       "<mark class=\"entity\" style=\"background: #bfe1d9; padding: 0.45em 0.6em; margin: 0 0.25em; line-height: 1; border-radius: 0.35em;\">\n",
       "    Flexi-Week\n",
       "    <span style=\"font-size: 0.8em; font-weight: bold; line-height: 1; border-radius: 0.35em; vertical-align: middle; margin-left: 0.5rem\">DATE</span>\n",
       "</mark>\n",
       " at full pay and with no reduction to your \n",
       "<mark class=\"entity\" style=\"background: #bfe1d9; padding: 0.45em 0.6em; margin: 0 0.25em; line-height: 1; border-radius: 0.35em;\">\n",
       "    annual\n",
       "    <span style=\"font-size: 0.8em; font-weight: bold; line-height: 1; border-radius: 0.35em; vertical-align: middle; margin-left: 0.5rem\">DATE</span>\n",
       "</mark>\n",
       " holiday allowance. We also offer a variety of different paid special leaves.<br>• Remote Working Allowance: You will receive a \n",
       "<mark class=\"entity\" style=\"background: #bfe1d9; padding: 0.45em 0.6em; margin: 0 0.25em; line-height: 1; border-radius: 0.35em;\">\n",
       "    monthly\n",
       "    <span style=\"font-size: 0.8em; font-weight: bold; line-height: 1; border-radius: 0.35em; vertical-align: middle; margin-left: 0.5rem\">DATE</span>\n",
       "</mark>\n",
       " allowance to cover part of your running costs. In addition, we will support you in setting up your remote workspace appropriately.<br>• Flexi-Office: We offer an international culture and flexibility through our \n",
       "<mark class=\"entity\" style=\"background: #7aecec; padding: 0.45em 0.6em; margin: 0 0.25em; line-height: 1; border-radius: 0.35em;\">\n",
       "    Flexi-Office\n",
       "    <span style=\"font-size: 0.8em; font-weight: bold; line-height: 1; border-radius: 0.35em; vertical-align: middle; margin-left: 0.5rem\">ORG</span>\n",
       "</mark>\n",
       " and hybrid/remote work possibilities to work across \n",
       "<mark class=\"entity\" style=\"background: #aa9cfc; padding: 0.45em 0.6em; margin: 0 0.25em; line-height: 1; border-radius: 0.35em;\">\n",
       "    Awin\n",
       "    <span style=\"font-size: 0.8em; font-weight: bold; line-height: 1; border-radius: 0.35em; vertical-align: middle; margin-left: 0.5rem\">PERSON</span>\n",
       "</mark>\n",
       " regions<br>• Meal Vouchers: You will be supported with a certain net sum to spend it on a variety of lunches.<br>\n",
       "<mark class=\"entity\" style=\"background: #7aecec; padding: 0.45em 0.6em; margin: 0 0.25em; line-height: 1; border-radius: 0.35em;\">\n",
       "    • Health &amp; Wellbeing\n",
       "    <span style=\"font-size: 0.8em; font-weight: bold; line-height: 1; border-radius: 0.35em; vertical-align: middle; margin-left: 0.5rem\">ORG</span>\n",
       "</mark>\n",
       ": The insurance covers several types of health, vision and / or dental treatments for you and for up to \n",
       "<mark class=\"entity\" style=\"background: #e4e7d2; padding: 0.45em 0.6em; margin: 0 0.25em; line-height: 1; border-radius: 0.35em;\">\n",
       "    one\n",
       "    <span style=\"font-size: 0.8em; font-weight: bold; line-height: 1; border-radius: 0.35em; vertical-align: middle; margin-left: 0.5rem\">CARDINAL</span>\n",
       "</mark>\n",
       " additional family member.<br>\n",
       "<mark class=\"entity\" style=\"background: #7aecec; padding: 0.45em 0.6em; margin: 0 0.25em; line-height: 1; border-radius: 0.35em;\">\n",
       "    • Remote Working Furniture Package: After\n",
       "    <span style=\"font-size: 0.8em; font-weight: bold; line-height: 1; border-radius: 0.35em; vertical-align: middle; margin-left: 0.5rem\">ORG</span>\n",
       "</mark>\n",
       " \n",
       "<mark class=\"entity\" style=\"background: #bfe1d9; padding: 0.45em 0.6em; margin: 0 0.25em; line-height: 1; border-radius: 0.35em;\">\n",
       "    3 months\n",
       "    <span style=\"font-size: 0.8em; font-weight: bold; line-height: 1; border-radius: 0.35em; vertical-align: middle; margin-left: 0.5rem\">DATE</span>\n",
       "</mark>\n",
       " of employment, you will be eligible for a furniture package, which should enable you to set up a proper workplace at your remote working location<br>• Appreciation: Thank and reward colleagues by sending them a voucher through our peer-to-peer program.<br><br>We are seeking a Senior AI Engineer to join our growing AI team with a mission to design, develop, and deploy \n",
       "<mark class=\"entity\" style=\"background: #7aecec; padding: 0.45em 0.6em; margin: 0 0.25em; line-height: 1; border-radius: 0.35em;\">\n",
       "    AI\n",
       "    <span style=\"font-size: 0.8em; font-weight: bold; line-height: 1; border-radius: 0.35em; vertical-align: middle; margin-left: 0.5rem\">ORG</span>\n",
       "</mark>\n",
       " models that drive our conversational applications. The role will focus on leveraging advanced \n",
       "<mark class=\"entity\" style=\"background: #feca74; padding: 0.45em 0.6em; margin: 0 0.25em; line-height: 1; border-radius: 0.35em;\">\n",
       "    AI\n",
       "    <span style=\"font-size: 0.8em; font-weight: bold; line-height: 1; border-radius: 0.35em; vertical-align: middle; margin-left: 0.5rem\">GPE</span>\n",
       "</mark>\n",
       " technologies, specifically in \n",
       "<mark class=\"entity\" style=\"background: #7aecec; padding: 0.45em 0.6em; margin: 0 0.25em; line-height: 1; border-radius: 0.35em;\">\n",
       "    Large Language Models\n",
       "    <span style=\"font-size: 0.8em; font-weight: bold; line-height: 1; border-radius: 0.35em; vertical-align: middle; margin-left: 0.5rem\">ORG</span>\n",
       "</mark>\n",
       " (LLMs), to create scalable and impactful solutions that enhance our products.Established in \n",
       "<mark class=\"entity\" style=\"background: #bfe1d9; padding: 0.45em 0.6em; margin: 0 0.25em; line-height: 1; border-radius: 0.35em;\">\n",
       "    2000\n",
       "    <span style=\"font-size: 0.8em; font-weight: bold; line-height: 1; border-radius: 0.35em; vertical-align: middle; margin-left: 0.5rem\">DATE</span>\n",
       "</mark>\n",
       ", \n",
       "<mark class=\"entity\" style=\"background: #aa9cfc; padding: 0.45em 0.6em; margin: 0 0.25em; line-height: 1; border-radius: 0.35em;\">\n",
       "    Awin\n",
       "    <span style=\"font-size: 0.8em; font-weight: bold; line-height: 1; border-radius: 0.35em; vertical-align: middle; margin-left: 0.5rem\">PERSON</span>\n",
       "</mark>\n",
       " is proud of our dynamic, social and inclusive culture.Like all businesses, we've had to adapt and nurture our culture in a virtual environment. Our virtual \n",
       "<mark class=\"entity\" style=\"background: #f0d0ff; padding: 0.45em 0.6em; margin: 0 0.25em; line-height: 1; border-radius: 0.35em;\">\n",
       "    'Life @ Awin'\n",
       "    <span style=\"font-size: 0.8em; font-weight: bold; line-height: 1; border-radius: 0.35em; vertical-align: middle; margin-left: 0.5rem\">WORK_OF_ART</span>\n",
       "</mark>\n",
       " hub brings our colleagues from across the globe together for various social activities.\n",
       "<mark class=\"entity\" style=\"background: #7aecec; padding: 0.45em 0.6em; margin: 0 0.25em; line-height: 1; border-radius: 0.35em;\">\n",
       "    Diversity &amp; Inclusion\n",
       "    <span style=\"font-size: 0.8em; font-weight: bold; line-height: 1; border-radius: 0.35em; vertical-align: middle; margin-left: 0.5rem\">ORG</span>\n",
       "</mark>\n",
       " are paramount to us, and we proudly pursue and hire diverse team members. We champion uniqueness and authenticity; this is who we are at our core. Our network of affiliate partnerships are diverse and transparent, as are the employees powering our vision to build the world's leading open partner ecosystem. We welcome all backgrounds, identities, and experiences. If you need support at any point in the application or interview process, please let us know.Apply now to begin the next stage of your career at a progressive company that supports both your professional and personal development.#LI-RS</div></span>"
      ],
      "text/plain": [
       "<IPython.core.display.HTML object>"
      ]
     },
     "metadata": {},
     "output_type": "display_data"
    }
   ],
   "source": [
    "from spacy import displacy\n",
    "displacy.render(document, style='ent', jupyter=True)"
   ]
  },
  {
   "cell_type": "code",
   "execution_count": 17,
   "id": "361fa647-6d48-406b-a545-7567badbe6f1",
   "metadata": {},
   "outputs": [
    {
     "name": "stdout",
     "output_type": "stream",
     "text": [
      "Django  --  PERSON\n",
      "RAG  --  PERSON\n",
      "• Strong  --  PERSON\n",
      "• Problem  --  PERSON\n",
      "RAG  --  PERSON\n",
      "Langsmith  --  PERSON\n",
      "Awin  --  PERSON\n",
      "Awin  --  PERSON\n"
     ]
    }
   ],
   "source": [
    "for entity in document.ents:\n",
    "  if entity.label_ == 'PERSON':\n",
    "    print(entity.text, ' -- ', entity.label_)"
   ]
  },
  {
   "cell_type": "markdown",
   "id": "9362e32c-82d5-44aa-ba63-f47108f0b2e9",
   "metadata": {},
   "source": [
    "## Most frequent words"
   ]
  },
  {
   "cell_type": "code",
   "execution_count": 18,
   "id": "b0223713-94d7-41a4-9fb1-759e70940a99",
   "metadata": {},
   "outputs": [],
   "source": [
    "import nltk"
   ]
  },
  {
   "cell_type": "code",
   "execution_count": 19,
   "id": "0ca2631a-f49a-43e1-a625-5f0dcf56f1ca",
   "metadata": {},
   "outputs": [
    {
     "name": "stderr",
     "output_type": "stream",
     "text": [
      "[nltk_data] Downloading package punkt to\n",
      "[nltk_data]     /Users/marinaashurkina/nltk_data...\n",
      "[nltk_data]   Package punkt is already up-to-date!\n",
      "[nltk_data] Downloading package punkt_tab to\n",
      "[nltk_data]     /Users/marinaashurkina/nltk_data...\n",
      "[nltk_data]   Package punkt_tab is already up-to-date!\n"
     ]
    },
    {
     "data": {
      "text/plain": [
       "True"
      ]
     },
     "execution_count": 19,
     "metadata": {},
     "output_type": "execute_result"
    }
   ],
   "source": [
    "nltk.download('punkt')\n",
    "nltk.download('punkt_tab')"
   ]
  },
  {
   "cell_type": "code",
   "execution_count": 20,
   "id": "378e25a3-8d8e-4731-9d81-88b00ec9c91e",
   "metadata": {},
   "outputs": [],
   "source": [
    "tokens = nltk.tokenize.word_tokenize(article.cleaned_text)"
   ]
  },
  {
   "cell_type": "code",
   "execution_count": 21,
   "id": "81027263-5c85-4493-9815-415caeb5b6ef",
   "metadata": {},
   "outputs": [
    {
     "data": {
      "text/plain": [
       "['•',\n",
       " 'Design',\n",
       " ',',\n",
       " 'Develop',\n",
       " ',',\n",
       " 'and',\n",
       " 'Deploy',\n",
       " 'AI',\n",
       " 'Models',\n",
       " ':',\n",
       " 'Focus',\n",
       " 'on',\n",
       " 'creating',\n",
       " 'and',\n",
       " 'deploying',\n",
       " 'AI',\n",
       " 'models',\n",
       " 'for',\n",
       " 'conversational',\n",
       " 'applications',\n",
       " ',',\n",
       " 'leveraging',\n",
       " 'advanced',\n",
       " 'LLM',\n",
       " '(',\n",
       " 'Large',\n",
       " 'Language',\n",
       " 'Model',\n",
       " ')',\n",
       " 'techniques',\n",
       " '.',\n",
       " '•',\n",
       " 'Collaborate',\n",
       " 'with',\n",
       " 'Product',\n",
       " 'and',\n",
       " 'Design',\n",
       " 'Teams',\n",
       " ':',\n",
       " 'Work',\n",
       " 'closely',\n",
       " 'with',\n",
       " 'cross-functional',\n",
       " 'teams',\n",
       " 'to',\n",
       " 'understand',\n",
       " 'requirements',\n",
       " 'and',\n",
       " 'translate',\n",
       " 'them',\n",
       " 'into',\n",
       " 'AI-driven',\n",
       " 'solutions',\n",
       " '.',\n",
       " '•',\n",
       " 'API',\n",
       " 'Development',\n",
       " 'and',\n",
       " 'Integration',\n",
       " ':',\n",
       " 'Develop',\n",
       " 'and',\n",
       " 'integrate',\n",
       " 'APIs',\n",
       " 'using',\n",
       " 'frameworks',\n",
       " 'like',\n",
       " 'FastAPI',\n",
       " ',',\n",
       " 'Django',\n",
       " ',',\n",
       " 'or',\n",
       " 'Flask',\n",
       " 'to',\n",
       " 'facilitate',\n",
       " 'AI',\n",
       " 'functionalities',\n",
       " 'within',\n",
       " 'larger',\n",
       " 'systems',\n",
       " '.',\n",
       " '•',\n",
       " 'Utilize',\n",
       " 'Advanced',\n",
       " 'AI',\n",
       " 'Tools',\n",
       " ':',\n",
       " 'Work',\n",
       " 'with',\n",
       " 'embedding',\n",
       " 'models',\n",
       " ',',\n",
       " 'vector',\n",
       " 'databases',\n",
       " ',',\n",
       " 'and',\n",
       " 'prompt',\n",
       " 'engineering',\n",
       " 'to',\n",
       " 'enhance',\n",
       " 'the',\n",
       " 'performance',\n",
       " 'and',\n",
       " 'capabilities',\n",
       " 'of',\n",
       " 'conversational',\n",
       " 'AI',\n",
       " '.',\n",
       " '•',\n",
       " 'Continuous',\n",
       " 'Evaluation',\n",
       " 'and',\n",
       " 'Improvement',\n",
       " ':',\n",
       " 'Evaluate',\n",
       " 'LLM',\n",
       " 'and',\n",
       " 'RAG',\n",
       " '(',\n",
       " 'Retrieval-Augmented',\n",
       " 'Generation',\n",
       " ')',\n",
       " 'implementations',\n",
       " 'and',\n",
       " 'iterate',\n",
       " 'on',\n",
       " 'these',\n",
       " 'to',\n",
       " 'boost',\n",
       " 'system',\n",
       " 'performance',\n",
       " ',',\n",
       " 'accuracy',\n",
       " ',',\n",
       " 'and',\n",
       " 'efficiency',\n",
       " '.',\n",
       " '•',\n",
       " 'Problem-Solving',\n",
       " 'and',\n",
       " 'Collaboration',\n",
       " ':',\n",
       " 'Engage',\n",
       " 'with',\n",
       " 'other',\n",
       " 'engineers',\n",
       " 'and',\n",
       " 'stakeholders',\n",
       " 'to',\n",
       " 'solve',\n",
       " 'complex',\n",
       " 'challenges',\n",
       " 'and',\n",
       " 'bring',\n",
       " 'high-quality',\n",
       " 'AI-driven',\n",
       " 'features',\n",
       " 'to',\n",
       " 'users',\n",
       " '.',\n",
       " '•',\n",
       " 'Stay',\n",
       " 'Current',\n",
       " 'with',\n",
       " 'AI',\n",
       " 'Trends',\n",
       " ':',\n",
       " 'Keep',\n",
       " 'abreast',\n",
       " 'of',\n",
       " 'the',\n",
       " 'latest',\n",
       " 'AI',\n",
       " 'and',\n",
       " 'ML',\n",
       " 'trends',\n",
       " ',',\n",
       " 'and',\n",
       " 'proactively',\n",
       " 'suggest',\n",
       " 'improvements',\n",
       " 'or',\n",
       " 'innovative',\n",
       " 'solutions',\n",
       " 'that',\n",
       " 'can',\n",
       " 'be',\n",
       " 'applied',\n",
       " '.',\n",
       " '•',\n",
       " 'Mentor',\n",
       " 'Junior',\n",
       " 'Team',\n",
       " 'Members',\n",
       " ':',\n",
       " 'Help',\n",
       " 'guide',\n",
       " 'junior',\n",
       " 'engineers',\n",
       " 'by',\n",
       " 'sharing',\n",
       " 'knowledge',\n",
       " ',',\n",
       " 'providing',\n",
       " 'constructive',\n",
       " 'feedback',\n",
       " ',',\n",
       " 'and',\n",
       " 'fostering',\n",
       " 'a',\n",
       " 'supportive',\n",
       " 'team',\n",
       " 'environment',\n",
       " '.',\n",
       " '•',\n",
       " 'At',\n",
       " 'least',\n",
       " '7',\n",
       " 'years',\n",
       " 'experience',\n",
       " 'as',\n",
       " 'a',\n",
       " 'Software',\n",
       " 'Engineer',\n",
       " ',',\n",
       " '5',\n",
       " 'of',\n",
       " 'them',\n",
       " 'working',\n",
       " 'with',\n",
       " 'Python',\n",
       " '.',\n",
       " '•',\n",
       " 'Proficiency',\n",
       " 'in',\n",
       " 'Python',\n",
       " 'and',\n",
       " 'experience',\n",
       " 'building',\n",
       " 'large',\n",
       " 'and',\n",
       " 'scalable',\n",
       " 'Python',\n",
       " 'applications',\n",
       " '.',\n",
       " '•',\n",
       " 'Excellent',\n",
       " 'verbal',\n",
       " 'and',\n",
       " 'written',\n",
       " 'communication',\n",
       " 'skills-able',\n",
       " 'to',\n",
       " 'explain',\n",
       " 'complex',\n",
       " 'technical',\n",
       " 'concepts',\n",
       " 'in',\n",
       " 'a',\n",
       " 'clear',\n",
       " 'and',\n",
       " 'approachable',\n",
       " 'manner',\n",
       " '.',\n",
       " '•',\n",
       " 'Strong',\n",
       " 'sense',\n",
       " 'of',\n",
       " 'ownership',\n",
       " 'and',\n",
       " 'accountability',\n",
       " 'for',\n",
       " 'the',\n",
       " 'work',\n",
       " 'produced',\n",
       " '.',\n",
       " '•',\n",
       " 'Team',\n",
       " 'player-eager',\n",
       " 'to',\n",
       " 'collaborate',\n",
       " ',',\n",
       " 'listen',\n",
       " ',',\n",
       " 'and',\n",
       " 'contribute',\n",
       " 'actively',\n",
       " 'to',\n",
       " 'team',\n",
       " 'success',\n",
       " '.',\n",
       " '•',\n",
       " 'Problem-solving',\n",
       " 'mindset-willing',\n",
       " 'to',\n",
       " 'tackle',\n",
       " 'complex',\n",
       " 'challenges',\n",
       " 'with',\n",
       " 'creativity',\n",
       " 'and',\n",
       " 'perseverance',\n",
       " '.',\n",
       " '•',\n",
       " 'Fluent',\n",
       " 'in',\n",
       " 'both',\n",
       " 'written',\n",
       " 'and',\n",
       " 'spoken',\n",
       " 'English',\n",
       " '.',\n",
       " '•',\n",
       " 'Experience',\n",
       " 'with',\n",
       " 'LLM',\n",
       " 'and',\n",
       " 'RAG',\n",
       " 'evaluation',\n",
       " 'using',\n",
       " 'Langsmith',\n",
       " '.',\n",
       " '•',\n",
       " 'Experience',\n",
       " 'with',\n",
       " 'LangGraph',\n",
       " 'framework',\n",
       " 'and',\n",
       " 'agents',\n",
       " 'in',\n",
       " 'general',\n",
       " '.',\n",
       " '•',\n",
       " 'Experience',\n",
       " 'with',\n",
       " 'other',\n",
       " 'programming',\n",
       " 'languages',\n",
       " 'and',\n",
       " 'containerization',\n",
       " 'tools',\n",
       " '.',\n",
       " '•',\n",
       " 'Enthusiasm',\n",
       " 'for',\n",
       " 'staying',\n",
       " 'up-to-date',\n",
       " 'with',\n",
       " 'the',\n",
       " 'latest',\n",
       " 'developments',\n",
       " 'in',\n",
       " 'AI',\n",
       " 'and',\n",
       " 'tech',\n",
       " '.',\n",
       " '•',\n",
       " 'Flexi-Week',\n",
       " 'and',\n",
       " 'Work-Life',\n",
       " 'Balance',\n",
       " ':',\n",
       " 'We',\n",
       " 'prioritise',\n",
       " 'your',\n",
       " 'mental',\n",
       " 'health',\n",
       " 'and',\n",
       " 'wellbeing',\n",
       " ',',\n",
       " 'offering',\n",
       " 'you',\n",
       " 'a',\n",
       " 'flexible',\n",
       " 'four-day',\n",
       " 'Flexi-Week',\n",
       " 'at',\n",
       " 'full',\n",
       " 'pay',\n",
       " 'and',\n",
       " 'with',\n",
       " 'no',\n",
       " 'reduction',\n",
       " 'to',\n",
       " 'your',\n",
       " 'annual',\n",
       " 'holiday',\n",
       " 'allowance',\n",
       " '.',\n",
       " 'We',\n",
       " 'also',\n",
       " 'offer',\n",
       " 'a',\n",
       " 'variety',\n",
       " 'of',\n",
       " 'different',\n",
       " 'paid',\n",
       " 'special',\n",
       " 'leaves',\n",
       " '.',\n",
       " '•',\n",
       " 'Remote',\n",
       " 'Working',\n",
       " 'Allowance',\n",
       " ':',\n",
       " 'You',\n",
       " 'will',\n",
       " 'receive',\n",
       " 'a',\n",
       " 'monthly',\n",
       " 'allowance',\n",
       " 'to',\n",
       " 'cover',\n",
       " 'part',\n",
       " 'of',\n",
       " 'your',\n",
       " 'running',\n",
       " 'costs',\n",
       " '.',\n",
       " 'In',\n",
       " 'addition',\n",
       " ',',\n",
       " 'we',\n",
       " 'will',\n",
       " 'support',\n",
       " 'you',\n",
       " 'in',\n",
       " 'setting',\n",
       " 'up',\n",
       " 'your',\n",
       " 'remote',\n",
       " 'workspace',\n",
       " 'appropriately',\n",
       " '.',\n",
       " '•',\n",
       " 'Flexi-Office',\n",
       " ':',\n",
       " 'We',\n",
       " 'offer',\n",
       " 'an',\n",
       " 'international',\n",
       " 'culture',\n",
       " 'and',\n",
       " 'flexibility',\n",
       " 'through',\n",
       " 'our',\n",
       " 'Flexi-Office',\n",
       " 'and',\n",
       " 'hybrid/remote',\n",
       " 'work',\n",
       " 'possibilities',\n",
       " 'to',\n",
       " 'work',\n",
       " 'across',\n",
       " 'Awin',\n",
       " 'regions',\n",
       " '•',\n",
       " 'Meal',\n",
       " 'Vouchers',\n",
       " ':',\n",
       " 'You',\n",
       " 'will',\n",
       " 'be',\n",
       " 'supported',\n",
       " 'with',\n",
       " 'a',\n",
       " 'certain',\n",
       " 'net',\n",
       " 'sum',\n",
       " 'to',\n",
       " 'spend',\n",
       " 'it',\n",
       " 'on',\n",
       " 'a',\n",
       " 'variety',\n",
       " 'of',\n",
       " 'lunches',\n",
       " '.',\n",
       " '•',\n",
       " 'Health',\n",
       " '&',\n",
       " 'Wellbeing',\n",
       " ':',\n",
       " 'The',\n",
       " 'insurance',\n",
       " 'covers',\n",
       " 'several',\n",
       " 'types',\n",
       " 'of',\n",
       " 'health',\n",
       " ',',\n",
       " 'vision',\n",
       " 'and',\n",
       " '/',\n",
       " 'or',\n",
       " 'dental',\n",
       " 'treatments',\n",
       " 'for',\n",
       " 'you',\n",
       " 'and',\n",
       " 'for',\n",
       " 'up',\n",
       " 'to',\n",
       " 'one',\n",
       " 'additional',\n",
       " 'family',\n",
       " 'member',\n",
       " '.',\n",
       " '•',\n",
       " 'Remote',\n",
       " 'Working',\n",
       " 'Furniture',\n",
       " 'Package',\n",
       " ':',\n",
       " 'After',\n",
       " '3',\n",
       " 'months',\n",
       " 'of',\n",
       " 'employment',\n",
       " ',',\n",
       " 'you',\n",
       " 'will',\n",
       " 'be',\n",
       " 'eligible',\n",
       " 'for',\n",
       " 'a',\n",
       " 'furniture',\n",
       " 'package',\n",
       " ',',\n",
       " 'which',\n",
       " 'should',\n",
       " 'enable',\n",
       " 'you',\n",
       " 'to',\n",
       " 'set',\n",
       " 'up',\n",
       " 'a',\n",
       " 'proper',\n",
       " 'workplace',\n",
       " 'at',\n",
       " 'your',\n",
       " 'remote',\n",
       " 'working',\n",
       " 'location',\n",
       " '•',\n",
       " 'Appreciation',\n",
       " ':',\n",
       " 'Thank',\n",
       " 'and',\n",
       " 'reward',\n",
       " 'colleagues',\n",
       " 'by',\n",
       " 'sending',\n",
       " 'them',\n",
       " 'a',\n",
       " 'voucher',\n",
       " 'through',\n",
       " 'our',\n",
       " 'peer-to-peer',\n",
       " 'program',\n",
       " '.',\n",
       " 'We',\n",
       " 'are',\n",
       " 'seeking',\n",
       " 'a',\n",
       " 'Senior',\n",
       " 'AI',\n",
       " 'Engineer',\n",
       " 'to',\n",
       " 'join',\n",
       " 'our',\n",
       " 'growing',\n",
       " 'AI',\n",
       " 'team',\n",
       " 'with',\n",
       " 'a',\n",
       " 'mission',\n",
       " 'to',\n",
       " 'design',\n",
       " ',',\n",
       " 'develop',\n",
       " ',',\n",
       " 'and',\n",
       " 'deploy',\n",
       " 'AI',\n",
       " 'models',\n",
       " 'that',\n",
       " 'drive',\n",
       " 'our',\n",
       " 'conversational',\n",
       " 'applications',\n",
       " '.',\n",
       " 'The',\n",
       " 'role',\n",
       " 'will',\n",
       " 'focus',\n",
       " 'on',\n",
       " 'leveraging',\n",
       " 'advanced',\n",
       " 'AI',\n",
       " 'technologies',\n",
       " ',',\n",
       " 'specifically',\n",
       " 'in',\n",
       " 'Large',\n",
       " 'Language',\n",
       " 'Models',\n",
       " '(',\n",
       " 'LLMs',\n",
       " ')',\n",
       " ',',\n",
       " 'to',\n",
       " 'create',\n",
       " 'scalable',\n",
       " 'and',\n",
       " 'impactful',\n",
       " 'solutions',\n",
       " 'that',\n",
       " 'enhance',\n",
       " 'our',\n",
       " 'products.Established',\n",
       " 'in',\n",
       " '2000',\n",
       " ',',\n",
       " 'Awin',\n",
       " 'is',\n",
       " 'proud',\n",
       " 'of',\n",
       " 'our',\n",
       " 'dynamic',\n",
       " ',',\n",
       " 'social',\n",
       " 'and',\n",
       " 'inclusive',\n",
       " 'culture.Like',\n",
       " 'all',\n",
       " 'businesses',\n",
       " ',',\n",
       " 'we',\n",
       " \"'ve\",\n",
       " 'had',\n",
       " 'to',\n",
       " 'adapt',\n",
       " 'and',\n",
       " 'nurture',\n",
       " 'our',\n",
       " 'culture',\n",
       " 'in',\n",
       " 'a',\n",
       " 'virtual',\n",
       " 'environment',\n",
       " '.',\n",
       " 'Our',\n",
       " 'virtual',\n",
       " \"'Life\",\n",
       " '@',\n",
       " 'Awin',\n",
       " \"'\",\n",
       " 'hub',\n",
       " 'brings',\n",
       " 'our',\n",
       " 'colleagues',\n",
       " 'from',\n",
       " 'across',\n",
       " 'the',\n",
       " 'globe',\n",
       " 'together',\n",
       " 'for',\n",
       " 'various',\n",
       " 'social',\n",
       " 'activities.Diversity',\n",
       " '&',\n",
       " 'Inclusion',\n",
       " 'are',\n",
       " 'paramount',\n",
       " 'to',\n",
       " 'us',\n",
       " ',',\n",
       " 'and',\n",
       " 'we',\n",
       " 'proudly',\n",
       " 'pursue',\n",
       " 'and',\n",
       " 'hire',\n",
       " 'diverse',\n",
       " 'team',\n",
       " 'members',\n",
       " '.',\n",
       " 'We',\n",
       " 'champion',\n",
       " 'uniqueness',\n",
       " 'and',\n",
       " 'authenticity',\n",
       " ';',\n",
       " 'this',\n",
       " 'is',\n",
       " 'who',\n",
       " 'we',\n",
       " 'are',\n",
       " 'at',\n",
       " 'our',\n",
       " 'core',\n",
       " '.',\n",
       " 'Our',\n",
       " 'network',\n",
       " 'of',\n",
       " 'affiliate',\n",
       " 'partnerships',\n",
       " 'are',\n",
       " 'diverse',\n",
       " 'and',\n",
       " 'transparent',\n",
       " ',',\n",
       " 'as',\n",
       " 'are',\n",
       " 'the',\n",
       " 'employees',\n",
       " 'powering',\n",
       " 'our',\n",
       " 'vision',\n",
       " 'to',\n",
       " 'build',\n",
       " 'the',\n",
       " 'world',\n",
       " \"'s\",\n",
       " 'leading',\n",
       " 'open',\n",
       " 'partner',\n",
       " 'ecosystem',\n",
       " '.',\n",
       " 'We',\n",
       " 'welcome',\n",
       " 'all',\n",
       " 'backgrounds',\n",
       " ',',\n",
       " 'identities',\n",
       " ',',\n",
       " 'and',\n",
       " 'experiences',\n",
       " '.',\n",
       " 'If',\n",
       " 'you',\n",
       " 'need',\n",
       " 'support',\n",
       " 'at',\n",
       " 'any',\n",
       " 'point',\n",
       " 'in',\n",
       " 'the',\n",
       " 'application',\n",
       " 'or',\n",
       " 'interview',\n",
       " 'process',\n",
       " ',',\n",
       " 'please',\n",
       " 'let',\n",
       " 'us',\n",
       " 'know.Apply',\n",
       " 'now',\n",
       " 'to',\n",
       " 'begin',\n",
       " 'the',\n",
       " 'next',\n",
       " 'stage',\n",
       " 'of',\n",
       " 'your',\n",
       " 'career',\n",
       " 'at',\n",
       " 'a',\n",
       " 'progressive',\n",
       " 'company',\n",
       " 'that',\n",
       " 'supports',\n",
       " 'both',\n",
       " 'your',\n",
       " 'professional',\n",
       " 'and',\n",
       " 'personal',\n",
       " 'development.',\n",
       " '#',\n",
       " 'LI-RS']"
      ]
     },
     "execution_count": 21,
     "metadata": {},
     "output_type": "execute_result"
    }
   ],
   "source": [
    "tokens"
   ]
  },
  {
   "cell_type": "code",
   "execution_count": 22,
   "id": "605d80bb-b32c-4eff-b8c9-ca3dc5130087",
   "metadata": {},
   "outputs": [
    {
     "data": {
      "text/plain": [
       "781"
      ]
     },
     "execution_count": 22,
     "metadata": {},
     "output_type": "execute_result"
    }
   ],
   "source": [
    "len(tokens)"
   ]
  },
  {
   "cell_type": "code",
   "execution_count": 23,
   "id": "b2f933a4-b635-42cc-8d39-5db72bbcd87a",
   "metadata": {},
   "outputs": [
    {
     "data": {
      "text/plain": [
       "[('and', 48),\n",
       " (',', 32),\n",
       " ('.', 32),\n",
       " ('•', 26),\n",
       " ('to', 23),\n",
       " (':', 15),\n",
       " ('a', 15),\n",
       " ('with', 14),\n",
       " ('AI', 12),\n",
       " ('of', 12),\n",
       " ('in', 10),\n",
       " ('our', 10),\n",
       " ('the', 9),\n",
       " ('for', 7),\n",
       " ('your', 7),\n",
       " ('We', 6),\n",
       " ('you', 6),\n",
       " ('at', 5),\n",
       " ('will', 5),\n",
       " ('are', 5),\n",
       " ('on', 4),\n",
       " ('or', 4),\n",
       " ('that', 4),\n",
       " ('team', 4),\n",
       " ('we', 4),\n",
       " ('models', 3),\n",
       " ('conversational', 3),\n",
       " ('applications', 3),\n",
       " ('LLM', 3),\n",
       " ('(', 3),\n",
       " (')', 3),\n",
       " ('them', 3),\n",
       " ('solutions', 3),\n",
       " ('complex', 3),\n",
       " ('be', 3),\n",
       " ('Python', 3),\n",
       " ('work', 3),\n",
       " ('Experience', 3),\n",
       " ('up', 3),\n",
       " ('Awin', 3),\n",
       " ('Design', 2),\n",
       " ('Develop', 2),\n",
       " ('Models', 2),\n",
       " ('leveraging', 2),\n",
       " ('advanced', 2),\n",
       " ('Large', 2),\n",
       " ('Language', 2),\n",
       " ('Work', 2),\n",
       " ('AI-driven', 2),\n",
       " ('using', 2)]"
      ]
     },
     "execution_count": 23,
     "metadata": {},
     "output_type": "execute_result"
    }
   ],
   "source": [
    "frequency = nltk.FreqDist(tokens)\n",
    "most_common = frequency.most_common(50)\n",
    "most_common"
   ]
  },
  {
   "cell_type": "markdown",
   "id": "36b63378-abfd-42c6-8892-d67fa2a41555",
   "metadata": {},
   "source": [
    "# Word Cloud"
   ]
  },
  {
   "cell_type": "code",
   "execution_count": 24,
   "id": "657dbc37-4084-4c1b-9cbe-fc6fe2b82470",
   "metadata": {},
   "outputs": [
    {
     "name": "stdout",
     "output_type": "stream",
     "text": [
      "Requirement already satisfied: wordcloud in /Users/marinaashurkina/code/nlp-notebooks/env/lib/python3.11/site-packages (1.9.4)\n",
      "Requirement already satisfied: numpy>=1.6.1 in /Users/marinaashurkina/code/nlp-notebooks/env/lib/python3.11/site-packages (from wordcloud) (2.2.2)\n",
      "Requirement already satisfied: pillow in /Users/marinaashurkina/code/nlp-notebooks/env/lib/python3.11/site-packages (from wordcloud) (11.1.0)\n",
      "Requirement already satisfied: matplotlib in /Users/marinaashurkina/code/nlp-notebooks/env/lib/python3.11/site-packages (from wordcloud) (3.10.0)\n",
      "Requirement already satisfied: contourpy>=1.0.1 in /Users/marinaashurkina/code/nlp-notebooks/env/lib/python3.11/site-packages (from matplotlib->wordcloud) (1.3.1)\n",
      "Requirement already satisfied: cycler>=0.10 in /Users/marinaashurkina/code/nlp-notebooks/env/lib/python3.11/site-packages (from matplotlib->wordcloud) (0.12.1)\n",
      "Requirement already satisfied: fonttools>=4.22.0 in /Users/marinaashurkina/code/nlp-notebooks/env/lib/python3.11/site-packages (from matplotlib->wordcloud) (4.55.8)\n",
      "Requirement already satisfied: kiwisolver>=1.3.1 in /Users/marinaashurkina/code/nlp-notebooks/env/lib/python3.11/site-packages (from matplotlib->wordcloud) (1.4.8)\n",
      "Requirement already satisfied: packaging>=20.0 in /Users/marinaashurkina/code/nlp-notebooks/env/lib/python3.11/site-packages (from matplotlib->wordcloud) (24.2)\n",
      "Requirement already satisfied: pyparsing>=2.3.1 in /Users/marinaashurkina/code/nlp-notebooks/env/lib/python3.11/site-packages (from matplotlib->wordcloud) (3.2.1)\n",
      "Requirement already satisfied: python-dateutil>=2.7 in /Users/marinaashurkina/code/nlp-notebooks/env/lib/python3.11/site-packages (from matplotlib->wordcloud) (2.9.0.post0)\n",
      "Requirement already satisfied: six>=1.5 in /Users/marinaashurkina/code/nlp-notebooks/env/lib/python3.11/site-packages (from python-dateutil>=2.7->matplotlib->wordcloud) (1.17.0)\n"
     ]
    }
   ],
   "source": [
    "!pip install wordcloud"
   ]
  },
  {
   "cell_type": "code",
   "execution_count": 25,
   "id": "26c6745b-ca21-4eca-95d0-3fbfc7c5e60d",
   "metadata": {},
   "outputs": [
    {
     "data": {
      "image/png": "[encoded data removed]",
      "text/plain": [
       "<Figure size 1000x1000 with 1 Axes>"
      ]
     },
     "metadata": {},
     "output_type": "display_data"
    }
   ],
   "source": [
    "from wordcloud import WordCloud\n",
    "import matplotlib.pyplot as plt\n",
    "cloud = WordCloud()\n",
    "cloud = cloud.generate(article.cleaned_text)\n",
    "plt.figure(figsize=(10,10))\n",
    "plt.imshow(cloud)\n",
    "plt.axis('off')\n",
    "plt.show()"
   ]
  },
  {
   "cell_type": "markdown",
   "id": "3e7cbf88-2714-4b37-844e-c770728565de",
   "metadata": {},
   "source": [
    "# Prepocessing the text"
   ]
  },
  {
   "cell_type": "code",
   "execution_count": 26,
   "id": "ed0fef83-9858-4492-a138-fde24c76221e",
   "metadata": {},
   "outputs": [
    {
     "data": {
      "text/plain": [
       "'text hello good'"
      ]
     },
     "execution_count": 26,
     "metadata": {},
     "output_type": "execute_result"
    }
   ],
   "source": [
    "# preprocessing steps\n",
    "\n",
    "def preprocessing(sentence):\n",
    "  sentence = sentence.lower()\n",
    "  sentence = sentence.replace('.',' ')\n",
    "  tokens = []\n",
    "  tokens = [token.text for token in nlp(sentence) if not (token.is_stop or token.is_punct or token.is_space or len(token)==1)]\n",
    "  tokens = ' '.join([element for element in tokens])\n",
    "  return tokens\n",
    "\n",
    "preprocessing('Text of hello we are good , ! 1 a')"
   ]
  },
  {
   "cell_type": "code",
   "execution_count": 27,
   "id": "128b152c-58ef-4035-96e6-cb6d7c7791bd",
   "metadata": {},
   "outputs": [
    {
     "data": {
      "text/plain": [
       "'design develop deploy ai models focus creating deploying ai models conversational applications leveraging advanced llm large language model techniques collaborate product design teams work closely cross functional teams understand requirements translate ai driven solutions api development integration develop integrate apis frameworks like fastapi django flask facilitate ai functionalities larger systems utilize advanced ai tools work embedding models vector databases prompt engineering enhance performance capabilities conversational ai continuous evaluation improvement evaluate llm rag retrieval augmented generation implementations iterate boost system performance accuracy efficiency problem solving collaboration engage engineers stakeholders solve complex challenges bring high quality ai driven features users stay current ai trends abreast latest ai ml trends proactively suggest improvements innovative solutions applied mentor junior team members help guide junior engineers sharing knowledge providing constructive feedback fostering supportive team environment years experience software engineer working python proficiency python experience building large scalable python applications excellent verbal written communication skills able explain complex technical concepts clear approachable manner strong sense ownership accountability work produced team player eager collaborate listen contribute actively team success problem solving mindset willing tackle complex challenges creativity perseverance fluent written spoken english experience llm rag evaluation langsmith experience langgraph framework agents general experience programming languages containerization tools enthusiasm staying date latest developments ai tech flexi week work life balance prioritise mental health wellbeing offering flexible day flexi week pay reduction annual holiday allowance offer variety different paid special leaves remote working allowance receive monthly allowance cover running costs addition support setting remote workspace appropriately flexi office offer international culture flexibility flexi office hybrid remote work possibilities work awin regions meal vouchers supported certain net sum spend variety lunches health wellbeing insurance covers types health vision dental treatments additional family member remote working furniture package months employment eligible furniture package enable set proper workplace remote working location appreciation thank reward colleagues sending voucher peer peer program seeking senior ai engineer join growing ai team mission design develop deploy ai models drive conversational applications role focus leveraging advanced ai technologies specifically large language models llms create scalable impactful solutions enhance products established 2000 awin proud dynamic social inclusive culture like businesses adapt nurture culture virtual environment virtual life awin hub brings colleagues globe social activities diversity inclusion paramount proudly pursue hire diverse team members champion uniqueness authenticity core network affiliate partnerships diverse transparent employees powering vision build world leading open partner ecosystem welcome backgrounds identities experiences need support point application interview process let know apply begin stage career progressive company supports professional personal development li rs'"
      ]
     },
     "execution_count": 27,
     "metadata": {},
     "output_type": "execute_result"
    }
   ],
   "source": [
    "article_cleaned = preprocessing(article.cleaned_text)\n",
    "article_cleaned"
   ]
  },
  {
   "cell_type": "code",
   "execution_count": 28,
   "id": "f809b053-a28b-4691-b638-ca8de0c4de60",
   "metadata": {},
   "outputs": [
    {
     "data": {
      "text/plain": [
       "(3394, 4599)"
      ]
     },
     "execution_count": 28,
     "metadata": {},
     "output_type": "execute_result"
    }
   ],
   "source": [
    "len(article_cleaned), len(article.cleaned_text)"
   ]
  },
  {
   "cell_type": "code",
   "execution_count": 29,
   "id": "ea8d0e35-483d-45a0-9be6-7a6c1f97bc90",
   "metadata": {},
   "outputs": [
    {
     "data": {
      "text/plain": [
       "[('ai', 14),\n",
       " ('work', 6),\n",
       " ('team', 6),\n",
       " ('models', 5),\n",
       " ('experience', 5),\n",
       " ('remote', 5),\n",
       " ('working', 4),\n",
       " ('flexi', 4),\n",
       " ('design', 3),\n",
       " ('develop', 3)]"
      ]
     },
     "execution_count": 29,
     "metadata": {},
     "output_type": "execute_result"
    }
   ],
   "source": [
    "tokens = nltk.tokenize.word_tokenize(article_cleaned)\n",
    "frequency = nltk.FreqDist(nltk.tokenize.word_tokenize(article_cleaned))\n",
    "most_common = frequency.most_common(10)\n",
    "most_common"
   ]
  },
  {
   "cell_type": "markdown",
   "id": "d75a793d-a355-4db6-a925-32ec5ac5cba1",
   "metadata": {},
   "source": [
    "# Prepocessing the text"
   ]
  },
  {
   "cell_type": "code",
   "execution_count": 30,
   "id": "08361d98-a5ca-4f9c-94ba-4d97b98132ab",
   "metadata": {},
   "outputs": [
    {
     "data": {
      "text/plain": [
       "'text hello good'"
      ]
     },
     "execution_count": 30,
     "metadata": {},
     "output_type": "execute_result"
    }
   ],
   "source": [
    "# preprocessing steps\n",
    "\n",
    "def preprocessing(sentence):\n",
    "  sentence = sentence.lower()\n",
    "  sentence = sentence.replace('.',' ')\n",
    "  tokens = []\n",
    "  tokens = [token.text for token in nlp(sentence) if not (token.is_stop or token.is_punct or token.is_space or len(token)==1)]\n",
    "  tokens = ' '.join([element for element in tokens])\n",
    "  return tokens\n",
    "\n",
    "preprocessing('Text of hello we are good , ! 1 a')"
   ]
  },
  {
   "cell_type": "code",
   "execution_count": 31,
   "id": "3b87f9a2-6b3a-437a-b08c-ab436d00b76f",
   "metadata": {},
   "outputs": [
    {
     "data": {
      "text/plain": [
       "'design develop deploy ai models focus creating deploying ai models conversational applications leveraging advanced llm large language model techniques collaborate product design teams work closely cross functional teams understand requirements translate ai driven solutions api development integration develop integrate apis frameworks like fastapi django flask facilitate ai functionalities larger systems utilize advanced ai tools work embedding models vector databases prompt engineering enhance performance capabilities conversational ai continuous evaluation improvement evaluate llm rag retrieval augmented generation implementations iterate boost system performance accuracy efficiency problem solving collaboration engage engineers stakeholders solve complex challenges bring high quality ai driven features users stay current ai trends abreast latest ai ml trends proactively suggest improvements innovative solutions applied mentor junior team members help guide junior engineers sharing knowledge providing constructive feedback fostering supportive team environment years experience software engineer working python proficiency python experience building large scalable python applications excellent verbal written communication skills able explain complex technical concepts clear approachable manner strong sense ownership accountability work produced team player eager collaborate listen contribute actively team success problem solving mindset willing tackle complex challenges creativity perseverance fluent written spoken english experience llm rag evaluation langsmith experience langgraph framework agents general experience programming languages containerization tools enthusiasm staying date latest developments ai tech flexi week work life balance prioritise mental health wellbeing offering flexible day flexi week pay reduction annual holiday allowance offer variety different paid special leaves remote working allowance receive monthly allowance cover running costs addition support setting remote workspace appropriately flexi office offer international culture flexibility flexi office hybrid remote work possibilities work awin regions meal vouchers supported certain net sum spend variety lunches health wellbeing insurance covers types health vision dental treatments additional family member remote working furniture package months employment eligible furniture package enable set proper workplace remote working location appreciation thank reward colleagues sending voucher peer peer program seeking senior ai engineer join growing ai team mission design develop deploy ai models drive conversational applications role focus leveraging advanced ai technologies specifically large language models llms create scalable impactful solutions enhance products established 2000 awin proud dynamic social inclusive culture like businesses adapt nurture culture virtual environment virtual life awin hub brings colleagues globe social activities diversity inclusion paramount proudly pursue hire diverse team members champion uniqueness authenticity core network affiliate partnerships diverse transparent employees powering vision build world leading open partner ecosystem welcome backgrounds identities experiences need support point application interview process let know apply begin stage career progressive company supports professional personal development li rs'"
      ]
     },
     "execution_count": 31,
     "metadata": {},
     "output_type": "execute_result"
    }
   ],
   "source": [
    "article_cleaned = preprocessing(article.cleaned_text)\n",
    "article_cleaned"
   ]
  },
  {
   "cell_type": "code",
   "execution_count": 32,
   "id": "2f887cfa-1e75-4e6b-9c0c-4f4735502b0d",
   "metadata": {},
   "outputs": [
    {
     "data": {
      "text/plain": [
       "(3394, 4599)"
      ]
     },
     "execution_count": 32,
     "metadata": {},
     "output_type": "execute_result"
    }
   ],
   "source": [
    "len(article_cleaned), len(article.cleaned_text)"
   ]
  },
  {
   "cell_type": "code",
   "execution_count": 33,
   "id": "e631bf34-df1f-474e-bc7a-c9652d76b384",
   "metadata": {},
   "outputs": [
    {
     "data": {
      "text/plain": [
       "[('ai', 14),\n",
       " ('work', 6),\n",
       " ('team', 6),\n",
       " ('models', 5),\n",
       " ('experience', 5),\n",
       " ('remote', 5),\n",
       " ('working', 4),\n",
       " ('flexi', 4),\n",
       " ('design', 3),\n",
       " ('develop', 3)]"
      ]
     },
     "execution_count": 33,
     "metadata": {},
     "output_type": "execute_result"
    }
   ],
   "source": [
    "tokens = nltk.tokenize.word_tokenize(article_cleaned)\n",
    "frequency = nltk.FreqDist(nltk.tokenize.word_tokenize(article_cleaned))\n",
    "most_common = frequency.most_common(10)\n",
    "most_common"
   ]
  },
  {
   "cell_type": "markdown",
   "id": "ce7fb3ed-cbe0-4d78-b006-74cb93e64491",
   "metadata": {},
   "source": [
    "# Text summarisation"
   ]
  },
  {
   "cell_type": "code",
   "execution_count": 34,
   "id": "8ede6259-39a7-40dd-85d1-357c0fcf5528",
   "metadata": {},
   "outputs": [
    {
     "data": {
      "text/plain": [
       "\"\\n• Design, Develop, and Deploy AI Models: Focus on creating and deploying AI models for conversational applications, leveraging advanced LLM (Large Language Model) techniques.\\n• Collaborate with Product and Design Teams: Work closely with cross-functional teams to understand requirements and translate them into AI-driven solutions.\\n• API Development and Integration: Develop and integrate APIs using frameworks like FastAPI, Django, or Flask to facilitate AI functionalities within larger systems.\\n• Utilize Advanced AI Tools: Work with embedding models, vector databases, and prompt engineering to enhance the performance and capabilities of conversational AI.\\n• Continuous Evaluation and Improvement: Evaluate LLM and RAG (Retrieval-Augmented Generation) implementations and iterate on these to boost system performance, accuracy, and efficiency.\\n• Problem-Solving and Collaboration: Engage with other engineers and stakeholders to solve complex challenges and bring high-quality AI-driven features to users.\\n• Stay Current with AI Trends: Keep abreast of the latest AI and ML trends, and proactively suggest improvements or innovative solutions that can be applied.\\n• Mentor Junior Team Members: Help guide junior engineers by sharing knowledge, providing constructive feedback, and fostering a supportive team environment.\\n• At least 7 years experience as a Software Engineer, 5 of them working with Python.\\n• Proficiency in Python and experience building large and scalable Python applications.\\n• Excellent verbal and written communication skills-able to explain complex technical concepts in a clear and approachable manner.\\n• Strong sense of ownership and accountability for the work produced.\\n• Team player-eager to collaborate, listen, and contribute actively to team success.\\n• Problem-solving mindset-willing to tackle complex challenges with creativity and perseverance.\\n• Fluent in both written and spoken English.\\n• Experience with LLM and RAG evaluation using Langsmith.\\n• Experience with LangGraph framework and agents in general.\\n• Experience with other programming languages and containerization tools.\\n• Enthusiasm for staying up-to-date with the latest developments in AI and tech.\\n• Flexi-Week and Work-Life Balance: We prioritise your mental health and wellbeing, offering you a flexible four-day Flexi-Week at full pay and with no reduction to your annual holiday allowance. We also offer a variety of different paid special leaves.\\n• Remote Working Allowance: You will receive a monthly allowance to cover part of your running costs. In addition, we will support you in setting up your remote workspace appropriately.\\n• Flexi-Office: We offer an international culture and flexibility through our Flexi-Office and hybrid/remote work possibilities to work across Awin regions\\n• Meal Vouchers: You will be supported with a certain net sum to spend it on a variety of lunches.\\n• Health & Wellbeing: The insurance covers several types of health, vision and / or dental treatments for you and for up to one additional family member.\\n• Remote Working Furniture Package: After 3 months of employment, you will be eligible for a furniture package, which should enable you to set up a proper workplace at your remote working location\\n• Appreciation: Thank and reward colleagues by sending them a voucher through our peer-to-peer program.\\n\\nWe are seeking a Senior AI Engineer to join our growing AI team with a mission to design, develop, and deploy AI models that drive our conversational applications. The role will focus on leveraging advanced AI technologies, specifically in Large Language Models (LLMs), to create scalable and impactful solutions that enhance our products.Established in 2000, Awin is proud of our dynamic, social and inclusive culture.Like all businesses, we've had to adapt and nurture our culture in a virtual environment. Our virtual 'Life @ Awin' hub brings our colleagues from across the globe together for various social activities.Diversity & Inclusion are paramount to us, and we proudly pursue and hire diverse team members. We champion uniqueness and authenticity; this is who we are at our core. Our network of affiliate partnerships are diverse and transparent, as are the employees powering our vision to build the world's leading open partner ecosystem. We welcome all backgrounds, identities, and experiences. If you need support at any point in the application or interview process, please let us know.Apply now to begin the next stage of your career at a progressive company that supports both your professional and personal development.#LI-RS\""
      ]
     },
     "execution_count": 34,
     "metadata": {},
     "output_type": "execute_result"
    }
   ],
   "source": [
    "article.cleaned_text"
   ]
  },
  {
   "cell_type": "code",
   "execution_count": 35,
   "id": "af011185-f145-4997-b0e0-6d63497bfc42",
   "metadata": {},
   "outputs": [],
   "source": [
    "original_sentences = [sentence for sentence in nltk.sent_tokenize(article.cleaned_text)]"
   ]
  },
  {
   "cell_type": "code",
   "execution_count": 36,
   "id": "5127eb03-2893-4489-8a91-a6a9b1c4b534",
   "metadata": {},
   "outputs": [
    {
     "name": "stdout",
     "output_type": "stream",
     "text": [
      "33\n"
     ]
    },
    {
     "data": {
      "text/plain": [
       "['\\n• Design, Develop, and Deploy AI Models: Focus on creating and deploying AI models for conversational applications, leveraging advanced LLM (Large Language Model) techniques.',\n",
       " '• Collaborate with Product and Design Teams: Work closely with cross-functional teams to understand requirements and translate them into AI-driven solutions.',\n",
       " '• API Development and Integration: Develop and integrate APIs using frameworks like FastAPI, Django, or Flask to facilitate AI functionalities within larger systems.',\n",
       " '• Utilize Advanced AI Tools: Work with embedding models, vector databases, and prompt engineering to enhance the performance and capabilities of conversational AI.',\n",
       " '• Continuous Evaluation and Improvement: Evaluate LLM and RAG (Retrieval-Augmented Generation) implementations and iterate on these to boost system performance, accuracy, and efficiency.',\n",
       " '• Problem-Solving and Collaboration: Engage with other engineers and stakeholders to solve complex challenges and bring high-quality AI-driven features to users.',\n",
       " '• Stay Current with AI Trends: Keep abreast of the latest AI and ML trends, and proactively suggest improvements or innovative solutions that can be applied.',\n",
       " '• Mentor Junior Team Members: Help guide junior engineers by sharing knowledge, providing constructive feedback, and fostering a supportive team environment.',\n",
       " '• At least 7 years experience as a Software Engineer, 5 of them working with Python.',\n",
       " '• Proficiency in Python and experience building large and scalable Python applications.',\n",
       " '• Excellent verbal and written communication skills-able to explain complex technical concepts in a clear and approachable manner.',\n",
       " '• Strong sense of ownership and accountability for the work produced.',\n",
       " '• Team player-eager to collaborate, listen, and contribute actively to team success.',\n",
       " '• Problem-solving mindset-willing to tackle complex challenges with creativity and perseverance.',\n",
       " '• Fluent in both written and spoken English.',\n",
       " '• Experience with LLM and RAG evaluation using Langsmith.',\n",
       " '• Experience with LangGraph framework and agents in general.',\n",
       " '• Experience with other programming languages and containerization tools.',\n",
       " '• Enthusiasm for staying up-to-date with the latest developments in AI and tech.',\n",
       " '• Flexi-Week and Work-Life Balance: We prioritise your mental health and wellbeing, offering you a flexible four-day Flexi-Week at full pay and with no reduction to your annual holiday allowance.',\n",
       " 'We also offer a variety of different paid special leaves.',\n",
       " '• Remote Working Allowance: You will receive a monthly allowance to cover part of your running costs.',\n",
       " 'In addition, we will support you in setting up your remote workspace appropriately.',\n",
       " '• Flexi-Office: We offer an international culture and flexibility through our Flexi-Office and hybrid/remote work possibilities to work across Awin regions\\n• Meal Vouchers: You will be supported with a certain net sum to spend it on a variety of lunches.',\n",
       " '• Health & Wellbeing: The insurance covers several types of health, vision and / or dental treatments for you and for up to one additional family member.',\n",
       " '• Remote Working Furniture Package: After 3 months of employment, you will be eligible for a furniture package, which should enable you to set up a proper workplace at your remote working location\\n• Appreciation: Thank and reward colleagues by sending them a voucher through our peer-to-peer program.',\n",
       " 'We are seeking a Senior AI Engineer to join our growing AI team with a mission to design, develop, and deploy AI models that drive our conversational applications.',\n",
       " \"The role will focus on leveraging advanced AI technologies, specifically in Large Language Models (LLMs), to create scalable and impactful solutions that enhance our products.Established in 2000, Awin is proud of our dynamic, social and inclusive culture.Like all businesses, we've had to adapt and nurture our culture in a virtual environment.\",\n",
       " \"Our virtual 'Life @ Awin' hub brings our colleagues from across the globe together for various social activities.Diversity & Inclusion are paramount to us, and we proudly pursue and hire diverse team members.\",\n",
       " 'We champion uniqueness and authenticity; this is who we are at our core.',\n",
       " \"Our network of affiliate partnerships are diverse and transparent, as are the employees powering our vision to build the world's leading open partner ecosystem.\",\n",
       " 'We welcome all backgrounds, identities, and experiences.',\n",
       " 'If you need support at any point in the application or interview process, please let us know.Apply now to begin the next stage of your career at a progressive company that supports both your professional and personal development.#LI-RS']"
      ]
     },
     "execution_count": 36,
     "metadata": {},
     "output_type": "execute_result"
    }
   ],
   "source": [
    "print(len(original_sentences))\n",
    "original_sentences"
   ]
  },
  {
   "cell_type": "code",
   "execution_count": 37,
   "id": "5b4e96ad-50c2-4a1b-94be-63db3191fd58",
   "metadata": {},
   "outputs": [
    {
     "name": "stdout",
     "output_type": "stream",
     "text": [
      "Collecting sumy\n",
      "  Downloading sumy-0.11.0-py2.py3-none-any.whl.metadata (7.5 kB)\n",
      "Collecting docopt<0.7,>=0.6.1 (from sumy)\n",
      "  Using cached docopt-0.6.2-py2.py3-none-any.whl\n",
      "Collecting breadability>=0.1.20 (from sumy)\n",
      "  Downloading breadability-0.1.20.tar.gz (32 kB)\n",
      "  Installing build dependencies ... \u001b[?2done\n",
      "\u001b[?25h  Getting requirements to build wheel ... \u001b[?25ldone\n",
      "\u001b[?25h  Preparing metadata (pyproject.toml) ... \u001b[?25ldone\n",
      "\u001b[?25hRequirement already satisfied: requests>=2.7.0 in /Users/marinaashurkina/code/nlp-notebooks/env/lib/python3.11/site-packages (from sumy) (2.32.3)\n",
      "Collecting pycountry>=18.2.23 (from sumy)\n",
      "  Downloading pycountry-24.6.1-py3-none-any.whl.metadata (12 kB)\n",
      "Requirement already satisfied: nltk>=3.0.2 in /Users/marinaashurkina/code/nlp-notebooks/env/lib/python3.11/site-packages (from sumy) (3.9.1)\n",
      "Collecting chardet (from breadability>=0.1.20->sumy)\n",
      "  Using cached chardet-5.2.0-py3-none-any.whl.metadata (3.4 kB)\n",
      "Requirement already satisfied: lxml>=2.0 in /Users/marinaashurkina/code/nlp-notebooks/env/lib/python3.11/site-packages (from breadability>=0.1.20->sumy) (5.3.0)\n",
      "Requirement already satisfied: click in /Users/marinaashurkina/code/nlp-notebooks/env/lib/python3.11/site-packages (from nltk>=3.0.2->sumy) (8.1.8)\n",
      "Requirement already satisfied: joblib in /Users/marinaashurkina/code/nlp-notebooks/env/lib/python3.11/site-packages (from nltk>=3.0.2->sumy) (1.4.2)\n",
      "Requirement already satisfied: regex>=2021.8.3 in /Users/marinaashurkina/code/nlp-notebooks/env/lib/python3.11/site-packages (from nltk>=3.0.2->sumy) (2024.11.6)\n",
      "Requirement already satisfied: tqdm in /Users/marinaashurkina/code/nlp-notebooks/env/lib/python3.11/site-packages (from nltk>=3.0.2->sumy) (4.67.1)\n",
      "Requirement already satisfied: charset-normalizer<4,>=2 in /Users/marinaashurkina/code/nlp-notebooks/env/lib/python3.11/site-packages (from requests>=2.7.0->sumy) (3.4.1)\n",
      "Requirement already satisfied: idna<4,>=2.5 in /Users/marinaashurkina/code/nlp-notebooks/env/lib/python3.11/site-packages (from requests>=2.7.0->sumy) (3.10)\n",
      "Requirement already satisfied: urllib3<3,>=1.21.1 in /Users/marinaashurkina/code/nlp-notebooks/env/lib/python3.11/site-packages (from requests>=2.7.0->sumy) (2.3.0)\n",
      "Requirement already satisfied: certifi>=2017.4.17 in /Users/marinaashurkina/code/nlp-notebooks/env/lib/python3.11/site-packages (from requests>=2.7.0->sumy) (2025.1.31)\n",
      "Downloading sumy-0.11.0-py2.py3-none-any.whl (97 kB)\n",
      "Downloading pycountry-24.6.1-py3-none-any.whl (6.3 MB)\n",
      "\u001b[2K   \u001b[90m━━━━━━━━━━━━━━━━━━━━━━━━━━━━━━━━━━━━━━━━\u001b[0m \u001b[32m6.3/6.3 MB\u001b[0m \u001b[31m10.5 MB/s\u001b[0m eta \u001b[36m0:00:00\u001b[0ma \u001b[36m0:00:01\u001b[0m\n",
      "\u001b[?25hDownloading chardet-5.2.0-py3-none-any.whl (199 kB)\n",
      "Building wheels for collected packages: breadability\n",
      "  Building wheel for breadability (pyproject.toml) ... \u001b[?25ldone\n",
      "\u001b[?25h  Created wheel for breadability: filename=breadability-0.1.20-py2.py3-none-any.whl size=21745 sha256=0621f9b14e5d5306cea6c650abf8ecb44717218cb64a85fa66b502650ed7e82e\n",
      "  Stored in directory: /Users/marinaashurkina/Library/Caches/pip/wheels/4d/57/58/7e3d7fedf51fe248b7fcee3df6945ae28638e22cddf01eb92b\n",
      "Successfully built breadability\n",
      "Installing collected packages: docopt, pycountry, chardet, breadability, sumy\n",
      "Successfully installed breadability-0.1.20 chardet-5.2.0 docopt-0.6.2 pycountry-24.6.1 sumy-0.11.0\n"
     ]
    }
   ],
   "source": [
    "!pip install sumy"
   ]
  },
  {
   "cell_type": "code",
   "execution_count": 38,
   "id": "bd2ed853-375f-49b8-bf9c-e650647407de",
   "metadata": {},
   "outputs": [],
   "source": [
    "from sumy.parsers.plaintext import PlaintextParser\n",
    "from sumy.nlp.tokenizers import Tokenizer\n",
    "from sumy.summarizers.sum_basic import SumBasicSummarizer"
   ]
  },
  {
   "cell_type": "code",
   "execution_count": 39,
   "id": "4808dcb6-d851-421c-98b4-cfde27650857",
   "metadata": {},
   "outputs": [],
   "source": [
    "parser = PlaintextParser.from_string(article.cleaned_text, Tokenizer('english'))"
   ]
  },
  {
   "cell_type": "code",
   "execution_count": 40,
   "id": "ba3e1efa-3fec-4f93-9a75-6ed0e835417a",
   "metadata": {},
   "outputs": [],
   "source": [
    "summarizer = SumBasicSummarizer()\n",
    "summary = summarizer(parser.document, 10)"
   ]
  },
  {
   "cell_type": "code",
   "execution_count": 41,
   "id": "3f628e39-9402-4e5b-bddc-0b058c8ab6a4",
   "metadata": {},
   "outputs": [
    {
     "data": {
      "text/plain": [
       "(<Sentence: • Stay Current with AI Trends: Keep abreast of the latest AI and ML trends, and proactively suggest improvements or innovative solutions that can be applied.>,\n",
       " <Sentence: • Mentor Junior Team Members: Help guide junior engineers by sharing knowledge, providing constructive feedback, and fostering a supportive team environment.>,\n",
       " <Sentence: • At least 7 years experience as a Software Engineer, 5 of them working with Python.>,\n",
       " <Sentence: • Proficiency in Python and experience building large and scalable Python applications.>,\n",
       " <Sentence: • Strong sense of ownership and accountability for the work produced.>,\n",
       " <Sentence: • Problem-solving mindset-willing to tackle complex challenges with creativity and perseverance.>,\n",
       " <Sentence: • Fluent in both written and spoken English.>,\n",
       " <Sentence: • Experience with LLM and RAG evaluation using Langsmith.>,\n",
       " <Sentence: In addition, we will support you in setting up your remote workspace appropriately.>,\n",
       " <Sentence: We are seeking a Senior AI Engineer to join our growing AI team with a mission to design, develop, and deploy AI models that drive our conversational applications.>)"
      ]
     },
     "execution_count": 41,
     "metadata": {},
     "output_type": "execute_result"
    }
   ],
   "source": [
    "summary"
   ]
  },
  {
   "cell_type": "code",
   "execution_count": 42,
   "id": "218ff5cd-5250-43d2-ae7d-b37786f554a8",
   "metadata": {},
   "outputs": [],
   "source": [
    "best_sentences = []\n",
    "for sentence in summary:\n",
    "  best_sentences.append(str(sentence))"
   ]
  },
  {
   "cell_type": "code",
   "execution_count": 43,
   "id": "7daf19b0-c4f8-4d16-a6c7-977a48e2e73d",
   "metadata": {},
   "outputs": [
    {
     "data": {
      "text/plain": [
       "['• Stay Current with AI Trends: Keep abreast of the latest AI and ML trends, and proactively suggest improvements or innovative solutions that can be applied.',\n",
       " '• Mentor Junior Team Members: Help guide junior engineers by sharing knowledge, providing constructive feedback, and fostering a supportive team environment.',\n",
       " '• At least 7 years experience as a Software Engineer, 5 of them working with Python.',\n",
       " '• Proficiency in Python and experience building large and scalable Python applications.',\n",
       " '• Strong sense of ownership and accountability for the work produced.',\n",
       " '• Problem-solving mindset-willing to tackle complex challenges with creativity and perseverance.',\n",
       " '• Fluent in both written and spoken English.',\n",
       " '• Experience with LLM and RAG evaluation using Langsmith.',\n",
       " 'In addition, we will support you in setting up your remote workspace appropriately.',\n",
       " 'We are seeking a Senior AI Engineer to join our growing AI team with a mission to design, develop, and deploy AI models that drive our conversational applications.']"
      ]
     },
     "execution_count": 43,
     "metadata": {},
     "output_type": "execute_result"
    }
   ],
   "source": [
    "best_sentences"
   ]
  },
  {
   "cell_type": "code",
   "execution_count": 44,
   "id": "3c07cf0b-d7ed-4c7b-bdc0-bbca176175c1",
   "metadata": {},
   "outputs": [
    {
     "data": {
      "text/html": [
       "<h2>Summary - Senior AI Engineer (f/m/d) - London, Greater London, United Kingdom job with Awin | 1402090476</h2>"
      ],
      "text/plain": [
       "<IPython.core.display.HTML object>"
      ]
     },
     "metadata": {},
     "output_type": "display_data"
    },
    {
     "data": {
      "text/html": [
       " \n",
       "• Design, Develop, and Deploy AI Models: Focus on creating and deploying AI models for conversational applications, leveraging advanced LLM (Large Language Model) techniques. • Collaborate with Product and Design Teams: Work closely with cross-functional teams to understand requirements and translate them into AI-driven solutions. • API Development and Integration: Develop and integrate APIs using frameworks like FastAPI, Django, or Flask to facilitate AI functionalities within larger systems. • Utilize Advanced AI Tools: Work with embedding models, vector databases, and prompt engineering to enhance the performance and capabilities of conversational AI. • Continuous Evaluation and Improvement: Evaluate LLM and RAG (Retrieval-Augmented Generation) implementations and iterate on these to boost system performance, accuracy, and efficiency. • Problem-Solving and Collaboration: Engage with other engineers and stakeholders to solve complex challenges and bring high-quality AI-driven features to users. <mark>• Stay Current with AI Trends: Keep abreast of the latest AI and ML trends, and proactively suggest improvements or innovative solutions that can be applied.</mark> <mark>• Mentor Junior Team Members: Help guide junior engineers by sharing knowledge, providing constructive feedback, and fostering a supportive team environment.</mark> <mark>• At least 7 years experience as a Software Engineer, 5 of them working with Python.</mark> <mark>• Proficiency in Python and experience building large and scalable Python applications.</mark> • Excellent verbal and written communication skills-able to explain complex technical concepts in a clear and approachable manner. <mark>• Strong sense of ownership and accountability for the work produced.</mark> • Team player-eager to collaborate, listen, and contribute actively to team success. <mark>• Problem-solving mindset-willing to tackle complex challenges with creativity and perseverance.</mark> <mark>• Fluent in both written and spoken English.</mark> <mark>• Experience with LLM and RAG evaluation using Langsmith.</mark> • Experience with LangGraph framework and agents in general. • Experience with other programming languages and containerization tools. • Enthusiasm for staying up-to-date with the latest developments in AI and tech. • Flexi-Week and Work-Life Balance: We prioritise your mental health and wellbeing, offering you a flexible four-day Flexi-Week at full pay and with no reduction to your annual holiday allowance. We also offer a variety of different paid special leaves. • Remote Working Allowance: You will receive a monthly allowance to cover part of your running costs. <mark>In addition, we will support you in setting up your remote workspace appropriately.</mark> • Flexi-Office: We offer an international culture and flexibility through our Flexi-Office and hybrid/remote work possibilities to work across Awin regions\n",
       "• Meal Vouchers: You will be supported with a certain net sum to spend it on a variety of lunches. • Health & Wellbeing: The insurance covers several types of health, vision and / or dental treatments for you and for up to one additional family member. • Remote Working Furniture Package: After 3 months of employment, you will be eligible for a furniture package, which should enable you to set up a proper workplace at your remote working location\n",
       "• Appreciation: Thank and reward colleagues by sending them a voucher through our peer-to-peer program. <mark>We are seeking a Senior AI Engineer to join our growing AI team with a mission to design, develop, and deploy AI models that drive our conversational applications.</mark> The role will focus on leveraging advanced AI technologies, specifically in Large Language Models (LLMs), to create scalable and impactful solutions that enhance our products.Established in 2000, Awin is proud of our dynamic, social and inclusive culture.Like all businesses, we've had to adapt and nurture our culture in a virtual environment. Our virtual 'Life @ Awin' hub brings our colleagues from across the globe together for various social activities.Diversity & Inclusion are paramount to us, and we proudly pursue and hire diverse team members. We champion uniqueness and authenticity; this is who we are at our core. Our network of affiliate partnerships are diverse and transparent, as are the employees powering our vision to build the world's leading open partner ecosystem. We welcome all backgrounds, identities, and experiences. If you need support at any point in the application or interview process, please let us know.Apply now to begin the next stage of your career at a progressive company that supports both your professional and personal development.#LI-RS"
      ],
      "text/plain": [
       "<IPython.core.display.HTML object>"
      ]
     },
     "metadata": {},
     "output_type": "display_data"
    }
   ],
   "source": [
    "from IPython.core.display import HTML\n",
    "text = ''\n",
    "display(HTML(f'<h2>Summary - {article.title}</h2>'))\n",
    "for sentence in original_sentences:\n",
    "  if sentence in best_sentences:\n",
    "    text += ' ' + str(sentence).replace(sentence, f'<mark>{sentence}</mark>' )\n",
    "  else:\n",
    "    text += ' ' + str(sentence)\n",
    "display(HTML(f\"\"\"{text}\"\"\"))"
   ]
  },
  {
   "cell_type": "markdown",
   "id": "5a9c9a93-06cd-4e49-aa4b-b8cf721300b3",
   "metadata": {},
   "source": [
    "# Keyword Search\n"
   ]
  },
  {
   "cell_type": "code",
   "execution_count": 45,
   "id": "a38b17cb-8847-4c81-9f16-85f9a85ff14c",
   "metadata": {},
   "outputs": [],
   "source": [
    "string = \"Design, Develop, and Deploy AI Models: Focus on creating and deploying AI models for conversational applications, leveraging advanced LLM (Large Language Model) techniques. • Collaborate with Product and Design Teams: Work closely with cross-functional teams to understand requirements and translate them into AI-driven solutions. • API Development and Integration: Develop and integrate APIs using frameworks like FastAPI, Django, or Flask to facilitate AI functionalities within larger systems. • Utilize Advanced AI Tools: Work with embedding models, vector databases, and prompt engineering to enhance the performance and capabilities of conversational AI.\""
   ]
  },
  {
   "cell_type": "code",
   "execution_count": 46,
   "id": "b677b4c6-31a2-4a65-b1c5-b92a2db8b96a",
   "metadata": {},
   "outputs": [],
   "source": [
    "search_strings = ['LLM', 'API', 'FastAPI', 'prompt engineering']\n",
    "tokens_list = [nlp(item) for item in search_strings]"
   ]
  },
  {
   "cell_type": "code",
   "execution_count": 47,
   "id": "1f969ad5-d27b-4df6-9f78-8fc916c27b60",
   "metadata": {},
   "outputs": [
    {
     "data": {
      "text/plain": [
       "[LLM, API, FastAPI, prompt engineering]"
      ]
     },
     "execution_count": 47,
     "metadata": {},
     "output_type": "execute_result"
    }
   ],
   "source": [
    "tokens_list"
   ]
  },
  {
   "cell_type": "code",
   "execution_count": 48,
   "id": "63b2e6b2-c9c6-450d-9068-b1157715199d",
   "metadata": {},
   "outputs": [],
   "source": [
    "from spacy.matcher import PhraseMatcher\n",
    "matcher = PhraseMatcher(nlp.vocab)\n",
    "matcher.add('Search', None, *tokens_list)"
   ]
  },
  {
   "cell_type": "code",
   "execution_count": 49,
   "id": "602d20cc-33cb-4a6d-aa26-c8d510d5cb85",
   "metadata": {},
   "outputs": [
    {
     "data": {
      "text/plain": [
       "[(10439048276818773896, 22, 23),\n",
       " (10439048276818773896, 58, 59),\n",
       " (10439048276818773896, 70, 71),\n",
       " (10439048276818773896, 99, 101)]"
      ]
     },
     "execution_count": 49,
     "metadata": {},
     "output_type": "execute_result"
    }
   ],
   "source": [
    "document = nlp(string)\n",
    "matches = matcher(document)\n",
    "matches"
   ]
  },
  {
   "cell_type": "code",
   "execution_count": 50,
   "id": "16b057e6-8359-4fc8-8f1b-ee12d809683d",
   "metadata": {},
   "outputs": [
    {
     "data": {
      "text/plain": [
       "conversational applications, leveraging advanced LLM (Large Language Model)"
      ]
     },
     "execution_count": 50,
     "metadata": {},
     "output_type": "execute_result"
    }
   ],
   "source": [
    "document[22-5:23+5]"
   ]
  },
  {
   "cell_type": "code",
   "execution_count": 51,
   "id": "c27cb40a-2ee6-410a-8f53-c642cba83f80",
   "metadata": {},
   "outputs": [
    {
     "data": {
      "text/plain": [
       "'LLM API FastAPI prompt engineering'"
      ]
     },
     "execution_count": 51,
     "metadata": {},
     "output_type": "execute_result"
    }
   ],
   "source": [
    "number_of_words = 50\n",
    "search_strings_html = ' '.join([element for element in search_strings])\n",
    "search_strings_html"
   ]
  },
  {
   "cell_type": "code",
   "execution_count": 52,
   "id": "5da76257-faf8-460f-acf5-635a3036cc3c",
   "metadata": {},
   "outputs": [
    {
     "data": {
      "text/html": [
       "<h1>LLM API FASTAPI PROMPT ENGINEERING</h1>"
      ],
      "text/plain": [
       "<IPython.core.display.HTML object>"
      ]
     },
     "metadata": {},
     "output_type": "display_data"
    },
    {
     "data": {
      "text/html": [
       "<p><strong> Number of matches: </strong>6</p> "
      ],
      "text/plain": [
       "<IPython.core.display.HTML object>"
      ]
     },
     "metadata": {},
     "output_type": "display_data"
    },
    {
     "name": "stderr",
     "output_type": "stream",
     "text": [
      "/var/folders/3h/jdfwqb9x39l895f9wvgxsx9w0000gn/T/ipykernel_3394/1965115698.py:13: UserWarning: [W007] The model you're using has no word vectors loaded, so the result of the Span.similarity method will be based on the tagger, parser and NER, which may not give useful similarity judgements. This may happen if you're using one of the small models, e.g. `en_core_web_sm`, which don't ship with word vectors and only use context-sensitive tensors. You can always add your own word vectors, or use one of the larger models instead if available.\n",
      "  if document[i[1]:i[2]].similarity(tokens_list[j]) == 1.0:\n"
     ]
    },
    {
     "data": {
      "text/html": [
       "<blockquote> \n",
       "• Design, Develop, and Deploy AI Models: Focus on creating and deploying AI models for conversational applications, leveraging advanced <mark>LLM</mark> (Large Language Model) techniques.\n",
       "• Collaborate with Product and Design Teams: Work closely with cross-functional teams to understand requirements and translate them into AI-driven solutions.\n",
       "• API Development and Integration: Develop and integrate APIs using frameworks like FastAPI<br /><br /> on creating and deploying AI models for conversational applications, leveraging advanced LLM (Large Language Model) techniques.\n",
       "• Collaborate with Product and Design Teams: Work closely with cross-functional teams to understand requirements and translate them into AI-driven solutions.\n",
       "• <mark>API</mark> Development and Integration: Develop and integrate <mark>API</mark>s using frameworks like Fast<mark>API</mark>, Django, or Flask to facilitate AI functionalities within larger systems.\n",
       "• Utilize Advanced AI Tools: Work with embedding models, vector databases, and prompt engineering to enhance the performance and capabilities of<br /><br /> LLM (Large Language Model) techniques.\n",
       "• Collaborate with Product and Design Teams: Work closely with cross-functional teams to understand requirements and translate them into AI-driven solutions.\n",
       "• API Development and Integration: Develop and integrate APIs using frameworks like <mark>FastAPI</mark>, Django, or Flask to facilitate AI functionalities within larger systems.\n",
       "• Utilize Advanced AI Tools: Work with embedding models, vector databases, and prompt engineering to enhance the performance and capabilities of conversational AI.\n",
       "• Continuous Evaluation and Improvement: Evaluate LLM<br /><br /> into AI-driven solutions.\n",
       "• API Development and Integration: Develop and integrate APIs using frameworks like FastAPI, Django, or Flask to facilitate AI functionalities within larger systems.\n",
       "• Utilize Advanced AI Tools: Work with embedding models, vector databases, and <mark>prompt engineering</mark> to enhance the performance and capabilities of conversational AI.\n",
       "• Continuous Evaluation and Improvement: Evaluate LLM and RAG (Retrieval-Augmented Generation) implementations and iterate on these to boost system performance, accuracy, and efficiency.\n",
       "• Problem-Solving and Collaboration:<br /><br /> FastAPI, Django, or Flask to facilitate AI functionalities within larger systems.\n",
       "• Utilize Advanced AI Tools: Work with embedding models, vector databases, and prompt engineering to enhance the performance and capabilities of conversational AI.\n",
       "• Continuous Evaluation and Improvement: Evaluate <mark>LLM</mark> and RAG (Retrieval-Augmented Generation) implementations and iterate on these to boost system performance, accuracy, and efficiency.\n",
       "• Problem-Solving and Collaboration: Engage with other engineers and stakeholders to solve complex challenges and bring high-quality AI-driven features<br /><br /> .\n",
       "• Team player-eager to collaborate, listen, and contribute actively to team success.\n",
       "• Problem-solving mindset-willing to tackle complex challenges with creativity and perseverance.\n",
       "• Fluent in both written and spoken English.\n",
       "• Experience with <mark>LLM</mark> and RAG evaluation using Langsmith.\n",
       "• Experience with LangGraph framework and agents in general.\n",
       "• Experience with other programming languages and containerization tools.\n",
       "• Enthusiasm for staying up-to-date with the latest developments in AI and tech.\n",
       "• Flexi<br /><br /></blockquote>"
      ],
      "text/plain": [
       "<IPython.core.display.HTML object>"
      ]
     },
     "metadata": {},
     "output_type": "display_data"
    }
   ],
   "source": [
    "marked_text = ''\n",
    "display(HTML(f'<h1>{search_strings_html.upper()}</h1>'))\n",
    "document = nlp(article.cleaned_text)\n",
    "matches = matcher(document)\n",
    "display(HTML(f\"\"\"<p><strong> Number of matches: </strong>{len(matches)}</p> \"\"\"))\n",
    "for i in matches:\n",
    "  #print(i)\n",
    "  start = i[1] - number_of_words\n",
    "  if start < 0:\n",
    "    start = 0\n",
    "  for j in range(len(tokens_list)):\n",
    "    #print(j, tokens_list[j])\n",
    "    if document[i[1]:i[2]].similarity(tokens_list[j]) == 1.0:\n",
    "      search_text = str(tokens_list[j])\n",
    "      marked_text += ' ' + str(document[start:i[2]+number_of_words]).replace(search_text, f'<mark>{search_text}</mark>')\n",
    "      marked_text += '<br /><br />'\n",
    "display(HTML(f\"\"\"<blockquote>{marked_text}</blockquote>\"\"\"))"
   ]
  },
  {
   "cell_type": "markdown",
   "id": "43395fdf-1baa-4daf-a492-6b27b5521867",
   "metadata": {},
   "source": [
    "# Bag of Words\n",
    "\n",
    "One of the main and simplest ways to represent sentences. Representing words in a numerical format."
   ]
  },
  {
   "cell_type": "code",
   "execution_count": 57,
   "id": "b8a503bc-3a16-4345-ad32-8ea05b8a1139",
   "metadata": {},
   "outputs": [
    {
     "name": "stdout",
     "output_type": "stream",
     "text": [
      "Collecting scikit-learn\n",
      "  Downloading scikit_learn-1.6.1-cp311-cp311-macosx_10_9_x86_64.whl.metadata (31 kB)\n",
      "Requirement already satisfied: numpy>=1.19.5 in /Users/marinaashurkina/code/nlp-notebooks/env/lib/python3.11/site-packages (from scikit-learn) (2.2.2)\n",
      "Collecting scipy>=1.6.0 (from scikit-learn)\n",
      "  Downloading scipy-1.15.1-cp311-cp311-macosx_14_0_x86_64.whl.metadata (61 kB)\n",
      "Requirement already satisfied: joblib>=1.2.0 in /Users/marinaashurkina/code/nlp-notebooks/env/lib/python3.11/site-packages (from scikit-learn) (1.4.2)\n",
      "Collecting threadpoolctl>=3.1.0 (from scikit-learn)\n",
      "  Downloading threadpoolctl-3.5.0-py3-none-any.whl.metadata (13 kB)\n",
      "Downloading scikit_learn-1.6.1-cp311-cp311-macosx_10_9_x86_64.whl (12.1 MB)\n",
      "\u001b[2K   \u001b[90m━━━━━━━━━━━━━━━━━━━━━━━━━━━━━━━━━━━━━━━━\u001b[0m \u001b[32m12.1/12.1 MB\u001b[0m \u001b[31m8.3 MB/s\u001b[0m eta \u001b[36m0:00:00\u001b[0m00:01\u001b[0m00:01\u001b[0m\n",
      "\u001b[?25hDownloading scipy-1.15.1-cp311-cp311-macosx_14_0_x86_64.whl (27.9 MB)\n",
      "\u001b[2K   \u001b[90m━━━━━━━━━━━━━━━━━━━━━━━━━━━━━━━━━━━━━━━━\u001b[0m \u001b[32m27.9/27.9 MB\u001b[0m \u001b[31m11.0 MB/s\u001b[0m eta \u001b[36m0:00:00\u001b[0m00:01\u001b[0m00:01\u001b[0m\n",
      "\u001b[?25hDownloading threadpoolctl-3.5.0-py3-none-any.whl (18 kB)\n",
      "Installing collected packages: threadpoolctl, scipy, scikit-learn\n",
      "Successfully installed scikit-learn-1.6.1 scipy-1.15.1 threadpoolctl-3.5.0\n"
     ]
    }
   ],
   "source": [
    "!pip install scikit-learn"
   ]
  },
  {
   "cell_type": "code",
   "execution_count": 59,
   "id": "24de7646-2033-44df-905a-a74805b81057",
   "metadata": {},
   "outputs": [],
   "source": [
    "from sklearn.feature_extraction.text import CountVectorizer\n",
    "senteces = ['This is the first document.',\n",
    "            'This is the second document',\n",
    "            'And this is the third one',\n",
    "            'Is this the first document?']"
   ]
  },
  {
   "cell_type": "code",
   "execution_count": 60,
   "id": "b332c683-9775-4b5d-98cd-59695f2fd381",
   "metadata": {},
   "outputs": [
    {
     "name": "stdout",
     "output_type": "stream",
     "text": [
      "['and' 'document' 'first' 'is' 'one' 'second' 'the' 'third' 'this']\n"
     ]
    }
   ],
   "source": [
    "#get unique words\n",
    "\n",
    "vectorizer = CountVectorizer()\n",
    "X = vectorizer.fit_transform(senteces)\n",
    "print(vectorizer.get_feature_names_out())"
   ]
  },
  {
   "cell_type": "code",
   "execution_count": 61,
   "id": "e118bfe9-aba7-45cb-b83d-eadb974e4862",
   "metadata": {},
   "outputs": [
    {
     "data": {
      "text/plain": [
       "array([[0, 1, 1, 1, 0, 0, 1, 0, 1],\n",
       "       [0, 1, 0, 1, 0, 1, 1, 0, 1],\n",
       "       [1, 0, 0, 1, 1, 0, 1, 1, 1],\n",
       "       [0, 1, 1, 1, 0, 0, 1, 0, 1]])"
      ]
     },
     "execution_count": 61,
     "metadata": {},
     "output_type": "execute_result"
    }
   ],
   "source": [
    "#convert text to numbers\n",
    "X.toarray()"
   ]
  },
  {
   "cell_type": "code",
   "execution_count": 62,
   "id": "20998001-75ae-4dba-b63d-059055b93694",
   "metadata": {},
   "outputs": [
    {
     "data": {
      "text/plain": [
       "['\\n• Design, Develop, and Deploy AI Models: Focus on creating and deploying AI models for conversational applications, leveraging advanced LLM (Large Language Model) techniques.',\n",
       " '• Collaborate with Product and Design Teams: Work closely with cross-functional teams to understand requirements and translate them into AI-driven solutions.',\n",
       " '• API Development and Integration: Develop and integrate APIs using frameworks like FastAPI, Django, or Flask to facilitate AI functionalities within larger systems.',\n",
       " '• Utilize Advanced AI Tools: Work with embedding models, vector databases, and prompt engineering to enhance the performance and capabilities of conversational AI.',\n",
       " '• Continuous Evaluation and Improvement: Evaluate LLM and RAG (Retrieval-Augmented Generation) implementations and iterate on these to boost system performance, accuracy, and efficiency.',\n",
       " '• Problem-Solving and Collaboration: Engage with other engineers and stakeholders to solve complex challenges and bring high-quality AI-driven features to users.',\n",
       " '• Stay Current with AI Trends: Keep abreast of the latest AI and ML trends, and proactively suggest improvements or innovative solutions that can be applied.',\n",
       " '• Mentor Junior Team Members: Help guide junior engineers by sharing knowledge, providing constructive feedback, and fostering a supportive team environment.',\n",
       " '• At least 7 years experience as a Software Engineer, 5 of them working with Python.',\n",
       " '• Proficiency in Python and experience building large and scalable Python applications.',\n",
       " '• Excellent verbal and written communication skills-able to explain complex technical concepts in a clear and approachable manner.',\n",
       " '• Strong sense of ownership and accountability for the work produced.',\n",
       " '• Team player-eager to collaborate, listen, and contribute actively to team success.',\n",
       " '• Problem-solving mindset-willing to tackle complex challenges with creativity and perseverance.',\n",
       " '• Fluent in both written and spoken English.',\n",
       " '• Experience with LLM and RAG evaluation using Langsmith.',\n",
       " '• Experience with LangGraph framework and agents in general.',\n",
       " '• Experience with other programming languages and containerization tools.',\n",
       " '• Enthusiasm for staying up-to-date with the latest developments in AI and tech.',\n",
       " '• Flexi-Week and Work-Life Balance: We prioritise your mental health and wellbeing, offering you a flexible four-day Flexi-Week at full pay and with no reduction to your annual holiday allowance.',\n",
       " 'We also offer a variety of different paid special leaves.',\n",
       " '• Remote Working Allowance: You will receive a monthly allowance to cover part of your running costs.',\n",
       " 'In addition, we will support you in setting up your remote workspace appropriately.',\n",
       " '• Flexi-Office: We offer an international culture and flexibility through our Flexi-Office and hybrid/remote work possibilities to work across Awin regions\\n• Meal Vouchers: You will be supported with a certain net sum to spend it on a variety of lunches.',\n",
       " '• Health & Wellbeing: The insurance covers several types of health, vision and / or dental treatments for you and for up to one additional family member.',\n",
       " '• Remote Working Furniture Package: After 3 months of employment, you will be eligible for a furniture package, which should enable you to set up a proper workplace at your remote working location\\n• Appreciation: Thank and reward colleagues by sending them a voucher through our peer-to-peer program.',\n",
       " 'We are seeking a Senior AI Engineer to join our growing AI team with a mission to design, develop, and deploy AI models that drive our conversational applications.',\n",
       " \"The role will focus on leveraging advanced AI technologies, specifically in Large Language Models (LLMs), to create scalable and impactful solutions that enhance our products.Established in 2000, Awin is proud of our dynamic, social and inclusive culture.Like all businesses, we've had to adapt and nurture our culture in a virtual environment.\",\n",
       " \"Our virtual 'Life @ Awin' hub brings our colleagues from across the globe together for various social activities.Diversity & Inclusion are paramount to us, and we proudly pursue and hire diverse team members.\",\n",
       " 'We champion uniqueness and authenticity; this is who we are at our core.',\n",
       " \"Our network of affiliate partnerships are diverse and transparent, as are the employees powering our vision to build the world's leading open partner ecosystem.\",\n",
       " 'We welcome all backgrounds, identities, and experiences.',\n",
       " 'If you need support at any point in the application or interview process, please let us know.Apply now to begin the next stage of your career at a progressive company that supports both your professional and personal development.#LI-RS']"
      ]
     },
     "execution_count": 62,
     "metadata": {},
     "output_type": "execute_result"
    }
   ],
   "source": [
    "original_sentences"
   ]
  },
  {
   "cell_type": "code",
   "execution_count": 63,
   "id": "5ab5104e-0216-4cf1-a112-dc049b543e1d",
   "metadata": {},
   "outputs": [
    {
     "name": "stdout",
     "output_type": "stream",
     "text": [
      "['2000' 'able' 'abreast' 'accountability' 'accuracy' 'across' 'actively'\n",
      " 'activities' 'adapt' 'addition' 'additional' 'advanced' 'affiliate'\n",
      " 'after' 'agents' 'ai' 'all' 'allowance' 'also' 'an' 'and' 'annual' 'any'\n",
      " 'api' 'apis' 'application' 'applications' 'applied' 'apply'\n",
      " 'appreciation' 'approachable' 'appropriately' 'are' 'as' 'at' 'augmented'\n",
      " 'authenticity' 'awin' 'backgrounds' 'balance' 'be' 'begin' 'boost' 'both'\n",
      " 'bring' 'brings' 'build' 'building' 'businesses' 'by' 'can'\n",
      " 'capabilities' 'career' 'certain' 'challenges' 'champion' 'clear'\n",
      " 'closely' 'collaborate' 'collaboration' 'colleagues' 'communication'\n",
      " 'company' 'complex' 'concepts' 'constructive' 'containerization'\n",
      " 'continuous' 'contribute' 'conversational' 'core' 'costs' 'cover'\n",
      " 'covers' 'create' 'creating' 'creativity' 'cross' 'culture' 'current'\n",
      " 'databases' 'date' 'day' 'dental' 'deploy' 'deploying' 'design' 'develop'\n",
      " 'development' 'developments' 'different' 'diverse' 'diversity' 'django'\n",
      " 'drive' 'driven' 'dynamic' 'eager' 'ecosystem' 'efficiency' 'eligible'\n",
      " 'embedding' 'employees' 'employment' 'enable' 'engage' 'engineer'\n",
      " 'engineering' 'engineers' 'english' 'enhance' 'enthusiasm' 'environment'\n",
      " 'established' 'evaluate' 'evaluation' 'excellent' 'experience'\n",
      " 'experiences' 'explain' 'facilitate' 'family' 'fastapi' 'features'\n",
      " 'feedback' 'flask' 'flexi' 'flexibility' 'flexible' 'fluent' 'focus'\n",
      " 'for' 'fostering' 'four' 'framework' 'frameworks' 'from' 'full'\n",
      " 'functional' 'functionalities' 'furniture' 'general' 'generation' 'globe'\n",
      " 'growing' 'guide' 'had' 'health' 'help' 'high' 'hire' 'holiday' 'hub'\n",
      " 'hybrid' 'identities' 'if' 'impactful' 'implementations' 'improvement'\n",
      " 'improvements' 'in' 'inclusion' 'inclusive' 'innovative' 'insurance'\n",
      " 'integrate' 'integration' 'international' 'interview' 'into' 'is' 'it'\n",
      " 'iterate' 'join' 'junior' 'keep' 'know' 'knowledge' 'langgraph'\n",
      " 'langsmith' 'language' 'languages' 'large' 'larger' 'latest' 'leading'\n",
      " 'least' 'leaves' 'let' 'leveraging' 'li' 'life' 'like' 'listen' 'llm'\n",
      " 'llms' 'location' 'lunches' 'manner' 'meal' 'member' 'members' 'mental'\n",
      " 'mentor' 'mindset' 'mission' 'ml' 'model' 'models' 'monthly' 'months'\n",
      " 'need' 'net' 'network' 'next' 'no' 'now' 'nurture' 'of' 'offer'\n",
      " 'offering' 'office' 'on' 'one' 'open' 'or' 'other' 'our' 'ownership'\n",
      " 'package' 'paid' 'paramount' 'part' 'partner' 'partnerships' 'pay' 'peer'\n",
      " 'performance' 'perseverance' 'personal' 'player' 'please' 'point'\n",
      " 'possibilities' 'powering' 'prioritise' 'proactively' 'problem' 'process'\n",
      " 'produced' 'product' 'products' 'professional' 'proficiency' 'program'\n",
      " 'programming' 'progressive' 'prompt' 'proper' 'proud' 'proudly'\n",
      " 'providing' 'pursue' 'python' 'quality' 'rag' 'receive' 'reduction'\n",
      " 'regions' 'remote' 'requirements' 'retrieval' 'reward' 'role' 'rs'\n",
      " 'running' 'scalable' 'seeking' 'sending' 'senior' 'sense' 'set' 'setting'\n",
      " 'several' 'sharing' 'should' 'skills' 'social' 'software' 'solutions'\n",
      " 'solve' 'solving' 'special' 'specifically' 'spend' 'spoken' 'stage'\n",
      " 'stakeholders' 'stay' 'staying' 'strong' 'success' 'suggest' 'sum'\n",
      " 'support' 'supported' 'supportive' 'supports' 'system' 'systems' 'tackle'\n",
      " 'team' 'teams' 'tech' 'technical' 'techniques' 'technologies' 'thank'\n",
      " 'that' 'the' 'them' 'these' 'this' 'through' 'to' 'together' 'tools'\n",
      " 'translate' 'transparent' 'treatments' 'trends' 'types' 'understand'\n",
      " 'uniqueness' 'up' 'us' 'users' 'using' 'utilize' 'variety' 'various' 've'\n",
      " 'vector' 'verbal' 'virtual' 'vision' 'voucher' 'vouchers' 'we' 'week'\n",
      " 'welcome' 'wellbeing' 'which' 'who' 'will' 'willing' 'with' 'within'\n",
      " 'work' 'working' 'workplace' 'workspace' 'world' 'written' 'years' 'you'\n",
      " 'your']\n"
     ]
    }
   ],
   "source": [
    "#get unique words\n",
    "\n",
    "vectorizer = CountVectorizer()\n",
    "X = vectorizer.fit_transform(original_sentences)\n",
    "print(vectorizer.get_feature_names_out())"
   ]
  },
  {
   "cell_type": "code",
   "execution_count": 64,
   "id": "88a92161-dd66-4a7c-93f1-9cabb49a34de",
   "metadata": {},
   "outputs": [
    {
     "data": {
      "text/plain": [
       "array([[0, 0, 0, ..., 0, 0, 0],\n",
       "       [0, 0, 0, ..., 0, 0, 0],\n",
       "       [0, 0, 0, ..., 0, 0, 0],\n",
       "       ...,\n",
       "       [0, 0, 0, ..., 0, 0, 0],\n",
       "       [0, 0, 0, ..., 0, 0, 0],\n",
       "       [0, 0, 0, ..., 0, 1, 2]], shape=(33, 367))"
      ]
     },
     "execution_count": 64,
     "metadata": {},
     "output_type": "execute_result"
    }
   ],
   "source": [
    "X.toarray()"
   ]
  },
  {
   "cell_type": "code",
   "execution_count": 65,
   "id": "50219f93-6cad-4bd5-8b77-7e2d8e75f62b",
   "metadata": {},
   "outputs": [
    {
     "data": {
      "text/plain": [
       "367"
      ]
     },
     "execution_count": 65,
     "metadata": {},
     "output_type": "execute_result"
    }
   ],
   "source": [
    "len(vectorizer.get_feature_names_out())"
   ]
  },
  {
   "cell_type": "code",
   "execution_count": 66,
   "id": "01734f26-ed8a-4282-8606-c3557910c00b",
   "metadata": {},
   "outputs": [
    {
     "data": {
      "text/plain": [
       "array([0, 0, 0, 0, 0, 0, 0, 0, 0, 0, 0, 1, 0, 0, 0, 2, 0, 0, 0, 0, 2, 0,\n",
       "       0, 0, 0, 0, 1, 0, 0, 0, 0, 0, 0, 0, 0, 0, 0, 0, 0, 0, 0, 0, 0, 0,\n",
       "       0, 0, 0, 0, 0, 0, 0, 0, 0, 0, 0, 0, 0, 0, 0, 0, 0, 0, 0, 0, 0, 0,\n",
       "       0, 0, 0, 1, 0, 0, 0, 0, 0, 1, 0, 0, 0, 0, 0, 0, 0, 0, 1, 1, 1, 1,\n",
       "       0, 0, 0, 0, 0, 0, 0, 0, 0, 0, 0, 0, 0, 0, 0, 0, 0, 0, 0, 0, 0, 0,\n",
       "       0, 0, 0, 0, 0, 0, 0, 0, 0, 0, 0, 0, 0, 0, 0, 0, 0, 0, 0, 0, 1, 1,\n",
       "       0, 0, 0, 0, 0, 0, 0, 0, 0, 0, 0, 0, 0, 0, 0, 0, 0, 0, 0, 0, 0, 0,\n",
       "       0, 0, 0, 0, 0, 0, 0, 0, 0, 0, 0, 0, 0, 0, 0, 0, 0, 0, 0, 0, 0, 0,\n",
       "       0, 0, 0, 0, 1, 0, 1, 0, 0, 0, 0, 0, 0, 1, 0, 0, 0, 0, 1, 0, 0, 0,\n",
       "       0, 0, 0, 0, 0, 0, 0, 0, 0, 1, 2, 0, 0, 0, 0, 0, 0, 0, 0, 0, 0, 0,\n",
       "       0, 0, 1, 0, 0, 0, 0, 0, 0, 0, 0, 0, 0, 0, 0, 0, 0, 0, 0, 0, 0, 0,\n",
       "       0, 0, 0, 0, 0, 0, 0, 0, 0, 0, 0, 0, 0, 0, 0, 0, 0, 0, 0, 0, 0, 0,\n",
       "       0, 0, 0, 0, 0, 0, 0, 0, 0, 0, 0, 0, 0, 0, 0, 0, 0, 0, 0, 0, 0, 0,\n",
       "       0, 0, 0, 0, 0, 0, 0, 0, 0, 0, 0, 0, 0, 0, 0, 0, 0, 0, 0, 0, 0, 0,\n",
       "       0, 0, 0, 0, 0, 0, 0, 1, 0, 0, 0, 0, 0, 0, 0, 0, 0, 0, 0, 0, 0, 0,\n",
       "       0, 0, 0, 0, 0, 0, 0, 0, 0, 0, 0, 0, 0, 0, 0, 0, 0, 0, 0, 0, 0, 0,\n",
       "       0, 0, 0, 0, 0, 0, 0, 0, 0, 0, 0, 0, 0, 0, 0])"
      ]
     },
     "execution_count": 66,
     "metadata": {},
     "output_type": "execute_result"
    }
   ],
   "source": [
    "X.toarray()[0]"
   ]
  },
  {
   "cell_type": "markdown",
   "id": "71076c46-f93a-4275-a15c-cca885684fa1",
   "metadata": {},
   "source": [
    "# TF-IDF"
   ]
  },
  {
   "cell_type": "code",
   "execution_count": 67,
   "id": "63708eb9-f3d5-47d9-9ec1-764f8ed2f146",
   "metadata": {},
   "outputs": [
    {
     "name": "stdout",
     "output_type": "stream",
     "text": [
      "['and' 'document' 'first' 'is' 'one' 'second' 'the' 'third' 'this']\n"
     ]
    }
   ],
   "source": [
    "from sklearn.feature_extraction.text import TfidfVectorizer\n",
    "vectorizer = TfidfVectorizer()\n",
    "X = vectorizer.fit_transform(senteces)\n",
    "print(vectorizer.get_feature_names_out())"
   ]
  },
  {
   "cell_type": "code",
   "execution_count": 68,
   "id": "38342a5a-bbf9-4ecb-928b-d5b48421ebaf",
   "metadata": {},
   "outputs": [
    {
     "data": {
      "text/plain": [
       "array([1.91629073, 1.22314355, 1.51082562, 1.        , 1.91629073,\n",
       "       1.91629073, 1.        , 1.91629073, 1.        ])"
      ]
     },
     "execution_count": 68,
     "metadata": {},
     "output_type": "execute_result"
    }
   ],
   "source": [
    "vectorizer.idf_"
   ]
  },
  {
   "cell_type": "code",
   "execution_count": 69,
   "id": "3a772d36-a1fa-45a7-a944-74710797fb87",
   "metadata": {},
   "outputs": [
    {
     "data": {
      "text/plain": [
       "array([[0.        , 0.46979139, 0.58028582, 0.38408524, 0.        ,\n",
       "        0.        , 0.38408524, 0.        , 0.38408524],\n",
       "       [0.        , 0.42796959, 0.        , 0.34989318, 0.        ,\n",
       "        0.67049706, 0.34989318, 0.        , 0.34989318],\n",
       "       [0.51184851, 0.        , 0.        , 0.26710379, 0.51184851,\n",
       "        0.        , 0.26710379, 0.51184851, 0.26710379],\n",
       "       [0.        , 0.46979139, 0.58028582, 0.38408524, 0.        ,\n",
       "        0.        , 0.38408524, 0.        , 0.38408524]])"
      ]
     },
     "execution_count": 69,
     "metadata": {},
     "output_type": "execute_result"
    }
   ],
   "source": [
    "X.toarray()"
   ]
  },
  {
   "cell_type": "code",
   "execution_count": 70,
   "id": "cc26db3d-69bc-4f5b-b583-94faa1c9ab69",
   "metadata": {},
   "outputs": [
    {
     "data": {
      "text/plain": [
       "['\\n• Design, Develop, and Deploy AI Models: Focus on creating and deploying AI models for conversational applications, leveraging advanced LLM (Large Language Model) techniques.',\n",
       " '• Collaborate with Product and Design Teams: Work closely with cross-functional teams to understand requirements and translate them into AI-driven solutions.',\n",
       " '• API Development and Integration: Develop and integrate APIs using frameworks like FastAPI, Django, or Flask to facilitate AI functionalities within larger systems.',\n",
       " '• Utilize Advanced AI Tools: Work with embedding models, vector databases, and prompt engineering to enhance the performance and capabilities of conversational AI.',\n",
       " '• Continuous Evaluation and Improvement: Evaluate LLM and RAG (Retrieval-Augmented Generation) implementations and iterate on these to boost system performance, accuracy, and efficiency.',\n",
       " '• Problem-Solving and Collaboration: Engage with other engineers and stakeholders to solve complex challenges and bring high-quality AI-driven features to users.',\n",
       " '• Stay Current with AI Trends: Keep abreast of the latest AI and ML trends, and proactively suggest improvements or innovative solutions that can be applied.',\n",
       " '• Mentor Junior Team Members: Help guide junior engineers by sharing knowledge, providing constructive feedback, and fostering a supportive team environment.',\n",
       " '• At least 7 years experience as a Software Engineer, 5 of them working with Python.',\n",
       " '• Proficiency in Python and experience building large and scalable Python applications.',\n",
       " '• Excellent verbal and written communication skills-able to explain complex technical concepts in a clear and approachable manner.',\n",
       " '• Strong sense of ownership and accountability for the work produced.',\n",
       " '• Team player-eager to collaborate, listen, and contribute actively to team success.',\n",
       " '• Problem-solving mindset-willing to tackle complex challenges with creativity and perseverance.',\n",
       " '• Fluent in both written and spoken English.',\n",
       " '• Experience with LLM and RAG evaluation using Langsmith.',\n",
       " '• Experience with LangGraph framework and agents in general.',\n",
       " '• Experience with other programming languages and containerization tools.',\n",
       " '• Enthusiasm for staying up-to-date with the latest developments in AI and tech.',\n",
       " '• Flexi-Week and Work-Life Balance: We prioritise your mental health and wellbeing, offering you a flexible four-day Flexi-Week at full pay and with no reduction to your annual holiday allowance.',\n",
       " 'We also offer a variety of different paid special leaves.',\n",
       " '• Remote Working Allowance: You will receive a monthly allowance to cover part of your running costs.',\n",
       " 'In addition, we will support you in setting up your remote workspace appropriately.',\n",
       " '• Flexi-Office: We offer an international culture and flexibility through our Flexi-Office and hybrid/remote work possibilities to work across Awin regions\\n• Meal Vouchers: You will be supported with a certain net sum to spend it on a variety of lunches.',\n",
       " '• Health & Wellbeing: The insurance covers several types of health, vision and / or dental treatments for you and for up to one additional family member.',\n",
       " '• Remote Working Furniture Package: After 3 months of employment, you will be eligible for a furniture package, which should enable you to set up a proper workplace at your remote working location\\n• Appreciation: Thank and reward colleagues by sending them a voucher through our peer-to-peer program.',\n",
       " 'We are seeking a Senior AI Engineer to join our growing AI team with a mission to design, develop, and deploy AI models that drive our conversational applications.',\n",
       " \"The role will focus on leveraging advanced AI technologies, specifically in Large Language Models (LLMs), to create scalable and impactful solutions that enhance our products.Established in 2000, Awin is proud of our dynamic, social and inclusive culture.Like all businesses, we've had to adapt and nurture our culture in a virtual environment.\",\n",
       " \"Our virtual 'Life @ Awin' hub brings our colleagues from across the globe together for various social activities.Diversity & Inclusion are paramount to us, and we proudly pursue and hire diverse team members.\",\n",
       " 'We champion uniqueness and authenticity; this is who we are at our core.',\n",
       " \"Our network of affiliate partnerships are diverse and transparent, as are the employees powering our vision to build the world's leading open partner ecosystem.\",\n",
       " 'We welcome all backgrounds, identities, and experiences.',\n",
       " 'If you need support at any point in the application or interview process, please let us know.Apply now to begin the next stage of your career at a progressive company that supports both your professional and personal development.#LI-RS']"
      ]
     },
     "execution_count": 70,
     "metadata": {},
     "output_type": "execute_result"
    }
   ],
   "source": [
    "original_sentences"
   ]
  },
  {
   "cell_type": "code",
   "execution_count": 71,
   "id": "959d1966-4d46-41b2-85c7-2b9bd6e51a44",
   "metadata": {},
   "outputs": [
    {
     "name": "stdout",
     "output_type": "stream",
     "text": [
      "['2000' 'able' 'abreast' 'accountability' 'accuracy' 'across' 'actively'\n",
      " 'activities' 'adapt' 'addition' 'additional' 'advanced' 'affiliate'\n",
      " 'after' 'agents' 'ai' 'all' 'allowance' 'also' 'an' 'and' 'annual' 'any'\n",
      " 'api' 'apis' 'application' 'applications' 'applied' 'apply'\n",
      " 'appreciation' 'approachable' 'appropriately' 'are' 'as' 'at' 'augmented'\n",
      " 'authenticity' 'awin' 'backgrounds' 'balance' 'be' 'begin' 'boost' 'both'\n",
      " 'bring' 'brings' 'build' 'building' 'businesses' 'by' 'can'\n",
      " 'capabilities' 'career' 'certain' 'challenges' 'champion' 'clear'\n",
      " 'closely' 'collaborate' 'collaboration' 'colleagues' 'communication'\n",
      " 'company' 'complex' 'concepts' 'constructive' 'containerization'\n",
      " 'continuous' 'contribute' 'conversational' 'core' 'costs' 'cover'\n",
      " 'covers' 'create' 'creating' 'creativity' 'cross' 'culture' 'current'\n",
      " 'databases' 'date' 'day' 'dental' 'deploy' 'deploying' 'design' 'develop'\n",
      " 'development' 'developments' 'different' 'diverse' 'diversity' 'django'\n",
      " 'drive' 'driven' 'dynamic' 'eager' 'ecosystem' 'efficiency' 'eligible'\n",
      " 'embedding' 'employees' 'employment' 'enable' 'engage' 'engineer'\n",
      " 'engineering' 'engineers' 'english' 'enhance' 'enthusiasm' 'environment'\n",
      " 'established' 'evaluate' 'evaluation' 'excellent' 'experience'\n",
      " 'experiences' 'explain' 'facilitate' 'family' 'fastapi' 'features'\n",
      " 'feedback' 'flask' 'flexi' 'flexibility' 'flexible' 'fluent' 'focus'\n",
      " 'for' 'fostering' 'four' 'framework' 'frameworks' 'from' 'full'\n",
      " 'functional' 'functionalities' 'furniture' 'general' 'generation' 'globe'\n",
      " 'growing' 'guide' 'had' 'health' 'help' 'high' 'hire' 'holiday' 'hub'\n",
      " 'hybrid' 'identities' 'if' 'impactful' 'implementations' 'improvement'\n",
      " 'improvements' 'in' 'inclusion' 'inclusive' 'innovative' 'insurance'\n",
      " 'integrate' 'integration' 'international' 'interview' 'into' 'is' 'it'\n",
      " 'iterate' 'join' 'junior' 'keep' 'know' 'knowledge' 'langgraph'\n",
      " 'langsmith' 'language' 'languages' 'large' 'larger' 'latest' 'leading'\n",
      " 'least' 'leaves' 'let' 'leveraging' 'li' 'life' 'like' 'listen' 'llm'\n",
      " 'llms' 'location' 'lunches' 'manner' 'meal' 'member' 'members' 'mental'\n",
      " 'mentor' 'mindset' 'mission' 'ml' 'model' 'models' 'monthly' 'months'\n",
      " 'need' 'net' 'network' 'next' 'no' 'now' 'nurture' 'of' 'offer'\n",
      " 'offering' 'office' 'on' 'one' 'open' 'or' 'other' 'our' 'ownership'\n",
      " 'package' 'paid' 'paramount' 'part' 'partner' 'partnerships' 'pay' 'peer'\n",
      " 'performance' 'perseverance' 'personal' 'player' 'please' 'point'\n",
      " 'possibilities' 'powering' 'prioritise' 'proactively' 'problem' 'process'\n",
      " 'produced' 'product' 'products' 'professional' 'proficiency' 'program'\n",
      " 'programming' 'progressive' 'prompt' 'proper' 'proud' 'proudly'\n",
      " 'providing' 'pursue' 'python' 'quality' 'rag' 'receive' 'reduction'\n",
      " 'regions' 'remote' 'requirements' 'retrieval' 'reward' 'role' 'rs'\n",
      " 'running' 'scalable' 'seeking' 'sending' 'senior' 'sense' 'set' 'setting'\n",
      " 'several' 'sharing' 'should' 'skills' 'social' 'software' 'solutions'\n",
      " 'solve' 'solving' 'special' 'specifically' 'spend' 'spoken' 'stage'\n",
      " 'stakeholders' 'stay' 'staying' 'strong' 'success' 'suggest' 'sum'\n",
      " 'support' 'supported' 'supportive' 'supports' 'system' 'systems' 'tackle'\n",
      " 'team' 'teams' 'tech' 'technical' 'techniques' 'technologies' 'thank'\n",
      " 'that' 'the' 'them' 'these' 'this' 'through' 'to' 'together' 'tools'\n",
      " 'translate' 'transparent' 'treatments' 'trends' 'types' 'understand'\n",
      " 'uniqueness' 'up' 'us' 'users' 'using' 'utilize' 'variety' 'various' 've'\n",
      " 'vector' 'verbal' 'virtual' 'vision' 'voucher' 'vouchers' 'we' 'week'\n",
      " 'welcome' 'wellbeing' 'which' 'who' 'will' 'willing' 'with' 'within'\n",
      " 'work' 'working' 'workplace' 'workspace' 'world' 'written' 'years' 'you'\n",
      " 'your']\n"
     ]
    }
   ],
   "source": [
    "vectorizer = TfidfVectorizer()\n",
    "X_sentences = vectorizer.fit_transform(original_sentences)\n",
    "print(vectorizer.get_feature_names_out())"
   ]
  },
  {
   "cell_type": "code",
   "execution_count": 72,
   "id": "6d5b2f0b-52f1-459b-ac9f-ba81e862836c",
   "metadata": {},
   "outputs": [
    {
     "data": {
      "text/plain": [
       "array([0.        , 0.        , 0.        , 0.        , 0.        ,\n",
       "       0.        , 0.        , 0.        , 0.        , 0.        ,\n",
       "       0.        , 0.        , 0.        , 0.        , 0.        ,\n",
       "       0.13871945, 0.        , 0.        , 0.        , 0.        ,\n",
       "       0.1403757 , 0.        , 0.        , 0.23911644, 0.23911644,\n",
       "       0.        , 0.        , 0.        , 0.        , 0.        ,\n",
       "       0.        , 0.        , 0.        , 0.        , 0.        ,\n",
       "       0.        , 0.        , 0.        , 0.        , 0.        ,\n",
       "       0.        , 0.        , 0.        , 0.        , 0.        ,\n",
       "       0.        , 0.        , 0.        , 0.        , 0.        ,\n",
       "       0.        , 0.        , 0.        , 0.        , 0.        ,\n",
       "       0.        , 0.        , 0.        , 0.        , 0.        ,\n",
       "       0.        , 0.        , 0.        , 0.        , 0.        ,\n",
       "       0.        , 0.        , 0.        , 0.        , 0.        ,\n",
       "       0.        , 0.        , 0.        , 0.        , 0.        ,\n",
       "       0.        , 0.        , 0.        , 0.        , 0.        ,\n",
       "       0.        , 0.        , 0.        , 0.        , 0.        ,\n",
       "       0.        , 0.        , 0.19587781, 0.21382346, 0.        ,\n",
       "       0.        , 0.        , 0.        , 0.23911644, 0.        ,\n",
       "       0.        , 0.        , 0.        , 0.        , 0.        ,\n",
       "       0.        , 0.        , 0.        , 0.        , 0.        ,\n",
       "       0.        , 0.        , 0.        , 0.        , 0.        ,\n",
       "       0.        , 0.        , 0.        , 0.        , 0.        ,\n",
       "       0.        , 0.        , 0.        , 0.        , 0.        ,\n",
       "       0.23911644, 0.        , 0.23911644, 0.        , 0.        ,\n",
       "       0.23911644, 0.        , 0.        , 0.        , 0.        ,\n",
       "       0.        , 0.        , 0.        , 0.        , 0.        ,\n",
       "       0.23911644, 0.        , 0.        , 0.        , 0.23911644,\n",
       "       0.        , 0.        , 0.        , 0.        , 0.        ,\n",
       "       0.        , 0.        , 0.        , 0.        , 0.        ,\n",
       "       0.        , 0.        , 0.        , 0.        , 0.        ,\n",
       "       0.        , 0.        , 0.        , 0.        , 0.        ,\n",
       "       0.        , 0.        , 0.        , 0.        , 0.        ,\n",
       "       0.23911644, 0.23911644, 0.        , 0.        , 0.        ,\n",
       "       0.        , 0.        , 0.        , 0.        , 0.        ,\n",
       "       0.        , 0.        , 0.        , 0.        , 0.        ,\n",
       "       0.        , 0.        , 0.        , 0.23911644, 0.        ,\n",
       "       0.        , 0.        , 0.        , 0.        , 0.        ,\n",
       "       0.        , 0.        , 0.21382346, 0.        , 0.        ,\n",
       "       0.        , 0.        , 0.        , 0.        , 0.        ,\n",
       "       0.        , 0.        , 0.        , 0.        , 0.        ,\n",
       "       0.        , 0.        , 0.        , 0.        , 0.        ,\n",
       "       0.        , 0.        , 0.        , 0.        , 0.        ,\n",
       "       0.        , 0.        , 0.        , 0.        , 0.        ,\n",
       "       0.        , 0.        , 0.        , 0.        , 0.        ,\n",
       "       0.18195808, 0.        , 0.        , 0.        , 0.        ,\n",
       "       0.        , 0.        , 0.        , 0.        , 0.        ,\n",
       "       0.        , 0.        , 0.        , 0.        , 0.        ,\n",
       "       0.        , 0.        , 0.        , 0.        , 0.        ,\n",
       "       0.        , 0.        , 0.        , 0.        , 0.        ,\n",
       "       0.        , 0.        , 0.        , 0.        , 0.        ,\n",
       "       0.        , 0.        , 0.        , 0.        , 0.        ,\n",
       "       0.        , 0.        , 0.        , 0.        , 0.        ,\n",
       "       0.        , 0.        , 0.        , 0.        , 0.        ,\n",
       "       0.        , 0.        , 0.        , 0.        , 0.        ,\n",
       "       0.        , 0.        , 0.        , 0.        , 0.        ,\n",
       "       0.        , 0.        , 0.        , 0.        , 0.        ,\n",
       "       0.        , 0.        , 0.        , 0.        , 0.        ,\n",
       "       0.        , 0.        , 0.        , 0.        , 0.        ,\n",
       "       0.        , 0.        , 0.        , 0.        , 0.        ,\n",
       "       0.        , 0.        , 0.        , 0.        , 0.        ,\n",
       "       0.        , 0.        , 0.        , 0.        , 0.23911644,\n",
       "       0.        , 0.        , 0.        , 0.        , 0.        ,\n",
       "       0.        , 0.        , 0.        , 0.        , 0.        ,\n",
       "       0.        , 0.        , 0.        , 0.        , 0.09548083,\n",
       "       0.        , 0.        , 0.        , 0.        , 0.        ,\n",
       "       0.        , 0.        , 0.        , 0.        , 0.        ,\n",
       "       0.        , 0.        , 0.21382346, 0.        , 0.        ,\n",
       "       0.        , 0.        , 0.        , 0.        , 0.        ,\n",
       "       0.        , 0.        , 0.        , 0.        , 0.        ,\n",
       "       0.        , 0.        , 0.        , 0.        , 0.        ,\n",
       "       0.        , 0.        , 0.23911644, 0.        , 0.        ,\n",
       "       0.        , 0.        , 0.        , 0.        , 0.        ,\n",
       "       0.        , 0.        ])"
      ]
     },
     "execution_count": 72,
     "metadata": {},
     "output_type": "execute_result"
    }
   ],
   "source": [
    "X_sentences.toarray()[2]"
   ]
  },
  {
   "cell_type": "markdown",
   "id": "365c7a5b-0d60-4912-9b64-1fb6e671eb34",
   "metadata": {},
   "source": [
    "# Cosine Simularity"
   ]
  },
  {
   "cell_type": "code",
   "execution_count": 73,
   "id": "ab2b689e-939e-4ad8-a907-eb5fa47c0fd4",
   "metadata": {},
   "outputs": [
    {
     "data": {
      "text/plain": [
       "scipy.sparse._csr.csr_matrix"
      ]
     },
     "execution_count": 73,
     "metadata": {},
     "output_type": "execute_result"
    }
   ],
   "source": [
    "X_sentences.shape\n",
    "type(X_sentences)"
   ]
  },
  {
   "cell_type": "code",
   "execution_count": 74,
   "id": "02b40fcb-d7d6-4afc-80da-0526efc903f0",
   "metadata": {},
   "outputs": [
    {
     "data": {
      "text/plain": [
       "numpy.ndarray"
      ]
     },
     "execution_count": 74,
     "metadata": {},
     "output_type": "execute_result"
    }
   ],
   "source": [
    "X_test_similarity = X_sentences[0:3]\n",
    "X_test_similarity = X_test_similarity.toarray()\n",
    "type(X_test_similarity)"
   ]
  },
  {
   "cell_type": "code",
   "execution_count": 75,
   "id": "e421653c-3c22-4963-bc69-fee2b3b92dd2",
   "metadata": {},
   "outputs": [],
   "source": [
    "import numpy as np\n",
    "X_test_similarity = np.concatenate((X_test_similarity, X_test_similarity[0].reshape(1,-1)), axis=0)"
   ]
  },
  {
   "cell_type": "code",
   "execution_count": 76,
   "id": "ccb806d7-5418-4c1c-9fe3-59c8ef889b5f",
   "metadata": {},
   "outputs": [
    {
     "data": {
      "text/plain": [
       "array([[0., 0., 0., ..., 0., 0., 0.],\n",
       "       [0., 0., 0., ..., 0., 0., 0.],\n",
       "       [0., 0., 0., ..., 0., 0., 0.],\n",
       "       [0., 0., 0., ..., 0., 0., 0.]], shape=(4, 367))"
      ]
     },
     "execution_count": 76,
     "metadata": {},
     "output_type": "execute_result"
    }
   ],
   "source": [
    "X_test_similarity"
   ]
  },
  {
   "cell_type": "code",
   "execution_count": 77,
   "id": "7c87676c-29ac-4374-b1aa-ad615342522f",
   "metadata": {},
   "outputs": [
    {
     "data": {
      "text/plain": [
       "(4, 367)"
      ]
     },
     "execution_count": 77,
     "metadata": {},
     "output_type": "execute_result"
    }
   ],
   "source": [
    "X_test_similarity.shape"
   ]
  },
  {
   "cell_type": "code",
   "execution_count": 78,
   "id": "b27a469b-b3d3-4e24-b566-b453e644897b",
   "metadata": {},
   "outputs": [
    {
     "data": {
      "text/plain": [
       "array([[0.04746896]])"
      ]
     },
     "execution_count": 78,
     "metadata": {},
     "output_type": "execute_result"
    }
   ],
   "source": [
    "from sklearn.metrics.pairwise import cosine_similarity\n",
    "cosine_similarity(X_test_similarity[1].reshape(1,-1),X_test_similarity[2].reshape(1,-1))"
   ]
  },
  {
   "cell_type": "code",
   "execution_count": 79,
   "id": "1da52430-185d-4097-957e-f362f2e99ea4",
   "metadata": {},
   "outputs": [
    {
     "data": {
      "text/plain": [
       "'\\n• Design, Develop, and Deploy AI Models: Focus on creating and deploying AI models for conversational applications, leveraging advanced LLM (Large Language Model) techniques.'"
      ]
     },
     "execution_count": 79,
     "metadata": {},
     "output_type": "execute_result"
    }
   ],
   "source": [
    "original_sentences[0]"
   ]
  },
  {
   "cell_type": "code",
   "execution_count": 80,
   "id": "be3916e6-0f54-4762-be3e-39912dc7e02b",
   "metadata": {},
   "outputs": [
    {
     "data": {
      "text/plain": [
       "'• Collaborate with Product and Design Teams: Work closely with cross-functional teams to understand requirements and translate them into AI-driven solutions.'"
      ]
     },
     "execution_count": 80,
     "metadata": {},
     "output_type": "execute_result"
    }
   ],
   "source": [
    "original_sentences[1]"
   ]
  },
  {
   "cell_type": "code",
   "execution_count": null,
   "id": "e4c84741-0db1-480e-84a3-525490635b33",
   "metadata": {},
   "outputs": [],
   "source": []
  }
 ],
 "metadata": {
  "kernelspec": {
   "display_name": "Python 3 (ipykernel)",
   "language": "python",
   "name": "python3"
  },
  "language_info": {
   "codemirror_mode": {
    "name": "ipython",
    "version": 3
   },
   "file_extension": ".py",
   "mimetype": "text/x-python",
   "name": "python",
   "nbconvert_exporter": "python",
   "pygments_lexer": "ipython3",
   "version": "3.11.5"
  }
 },
 "nbformat": 4,
 "nbformat_minor": 5
}
